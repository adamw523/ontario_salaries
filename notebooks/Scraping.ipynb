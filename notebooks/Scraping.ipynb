{
 "cells": [
  {
   "cell_type": "code",
   "execution_count": 126,
   "metadata": {
    "collapsed": false
   },
   "outputs": [],
   "source": [
    "import csv\n",
    "import requests\n",
    "from bs4 import BeautifulSoup"
   ]
  },
  {
   "cell_type": "markdown",
   "metadata": {},
   "source": [
    "## Years 2012, 2013"
   ]
  },
  {
   "cell_type": "markdown",
   "metadata": {
    "collapsed": true
   },
   "source": [
    "http://www.fin.gov.on.ca/en/publications/salarydisclosure/pssd/\n",
    "\n",
    "http://www.fin.gov.on.ca/en/publications/salarydisclosure/pssd/orgs.php?organization=ministries&year=2013"
   ]
  },
  {
   "cell_type": "code",
   "execution_count": 5,
   "metadata": {
    "collapsed": true
   },
   "outputs": [],
   "source": [
    "starting_url = 'http://www.fin.gov.on.ca/en/publications/salarydisclosure/pssd/orgs.php?organization=ministries&year=2013'"
   ]
  },
  {
   "cell_type": "code",
   "execution_count": 164,
   "metadata": {
    "collapsed": true
   },
   "outputs": [],
   "source": [
    "def pssd_data_for_year(year):\n",
    "    data_rows = [['employer', 'surname', 'given_name', 'position', 'salary', 'taxable_benefits']]\n",
    "    \n",
    "    starting_url = \"http://www.fin.gov.on.ca/en/publications/salarydisclosure/pssd/orgs.php?organization=ministries&year=%s\" % year\n",
    "\n",
    "    r = requests.get(starting_url)\n",
    "    soup = BeautifulSoup(r.text, 'html.parser')\n",
    "    \n",
    "    # all data pages urls for year\n",
    "    url_path = '/'.join(starting_url.split('/')[:-1])\n",
    "    links = soup.find_all('a', title='page number')\n",
    "    urls = [url_path + '/' + link['href'] for link in links]\n",
    "\n",
    "    for url in urls:\n",
    "        r = requests.get(url)\n",
    "        page_soup = BeautifulSoup(r.text, 'html.parser')\n",
    "\n",
    "        table = page_soup.find('table', summary='Salary Disclosure')\n",
    "        rows = table.find_all('tr')\n",
    "        # rows [3] to [-3] contain the data\n",
    "\n",
    "        for row in rows[3:-3]:\n",
    "            tds = row.find_all('td')\n",
    "            employer = tds[0].find('span', lang=\"en\").get_text().strip()\n",
    "            surname = tds[1].get_text().strip()\n",
    "            given_name = tds[2].get_text().strip()\n",
    "            position = tds[3].find('span', lang=\"en\").get_text().strip()\n",
    "            salary = tds[4].get_text().strip()\n",
    "            taxable_benefits = tds[5].get_text().strip()\n",
    "            \n",
    "            data_rows.append([employer, surname, given_name, position, salary, taxable_benefits])\n",
    "\n",
    "\n",
    "    return data_rows"
   ]
  },
  {
   "cell_type": "code",
   "execution_count": 170,
   "metadata": {
    "collapsed": false
   },
   "outputs": [],
   "source": [
    "class Parse20122013:\n",
    "    years = ['2012', '2013']\n",
    "    year_template = \"http://www.fin.gov.on.ca/en/publications/salarydisclosure/%s/\"\n",
    "    \n",
    "    def __init__(self):\n",
    "        self._data_rows = [['employer', 'surname', 'given_name', 'position', 'salary', 'taxable_benefits']]\n",
    "    \n",
    "    def page_urls_in_page(self, url):\n",
    "        r = requests.get(starting_url)\n",
    "        soup = BeautifulSoup(r.text, 'html.parser')\n",
    "\n",
    "        # all data pages urls for year\n",
    "        url_path = '/'.join(starting_url.split('/')[:-1])\n",
    "        links = soup.find_all('a', title='page number')\n",
    "        urls = [url_path + '/' + link['href'] for link in links]\n",
    "\n",
    "    def org_pages_in_page(self, url):\n",
    "        r = requests.get(year_url)\n",
    "        year_soup = BeautifulSoup(r.text, 'html.parser')\n",
    "\n",
    "        links = year_soup.find_all('a')\n",
    "        links = [link for link in links \n",
    "                 if link.text == \"HTML\" \n",
    "                 and \"orgs.php?organization=\" in link.attrs['href']]\n",
    "        return links\n",
    "        \n",
    "    def data_rows_in_page(self, url):\n",
    "        r = requests.get(url)\n",
    "        page_soup = BeautifulSoup(r.text, 'html.parser')\n",
    "\n",
    "        table = page_soup.find('table', summary='Salary Disclosure')\n",
    "        rows = table.find_all('tr')\n",
    "        # rows [3] to [-3] contain the data\n",
    "\n",
    "        for row in rows[3:-3]:\n",
    "            tds = row.find_all('td')\n",
    "            employer = tds[0].find('span', lang=\"en\").get_text().strip()\n",
    "            surname = tds[1].get_text().strip()\n",
    "            given_name = tds[2].get_text().strip()\n",
    "            position = tds[3].find('span', lang=\"en\").get_text().strip()\n",
    "            salary = tds[4].get_text().strip()\n",
    "            taxable_benefits = tds[5].get_text().strip()\n",
    "            \n",
    "            data_rows.append([employer, surname, given_name, position, salary, taxable_benefits])\n",
    "\n",
    "            "
   ]
  },
  {
   "cell_type": "code",
   "execution_count": 132,
   "metadata": {
    "collapsed": false
   },
   "outputs": [],
   "source": [
    "pssd_years = ['2012', '2013']\n",
    "for year in pssd_years:\n",
    "    data = pssd_data_for_year(year)\n",
    "    with open(\"/data/onstario_salaries_%s.csv\" % year, 'w') as f:\n",
    "        writer = csv.writer(f)\n",
    "        writer.writerows(data)"
   ]
  },
  {
   "cell_type": "code",
   "execution_count": null,
   "metadata": {
    "collapsed": true
   },
   "outputs": [],
   "source": []
  },
  {
   "cell_type": "code",
   "execution_count": null,
   "metadata": {
    "collapsed": true
   },
   "outputs": [],
   "source": []
  },
  {
   "cell_type": "code",
   "execution_count": null,
   "metadata": {
    "collapsed": true
   },
   "outputs": [],
   "source": []
  },
  {
   "cell_type": "code",
   "execution_count": 148,
   "metadata": {
    "collapsed": true
   },
   "outputs": [],
   "source": [
    "year_url = \"http://www.fin.gov.on.ca/en/publications/salarydisclosure/2013/\"\n",
    "r = requests.get(year_url)\n",
    "year_soup = BeautifulSoup(r.text, 'html.parser')\n",
    "\n",
    "links = year_soup.find_all('a')\n"
   ]
  },
  {
   "cell_type": "code",
   "execution_count": 160,
   "metadata": {
    "collapsed": false,
    "scrolled": false
   },
   "outputs": [
    {
     "data": {
      "text/plain": [
       "[<a href=\"../pssd/orgs.php?organization=ministries&amp;year=2012\">HTML</a>,\n",
       " <a href=\"../pssd/orgs.php?organization=legislative&amp;year=2012\">HTML</a>,\n",
       " <a href=\"../pssd/orgs.php?organization=judiciary&amp;year=2012\">HTML</a>,\n",
       " <a href=\"../pssd/orgs.php?organization=crown&amp;year=2012\">HTML</a>,\n",
       " <a href=\"../pssd/orgs.php?organization=electricity&amp;year=2012\">HTML</a>,\n",
       " <a href=\"../pssd/orgs.php?organization=municipalities&amp;year=2012\">HTML</a>,\n",
       " <a href=\"../pssd/orgs.php?organization=schoolboards&amp;year=2012\">HTML</a>,\n",
       " <a href=\"../pssd/orgs.php?organization=universities&amp;year=2012\">HTML</a>,\n",
       " <a href=\"../pssd/orgs.php?organization=colleges&amp;year=2012\">HTML</a>,\n",
       " <a href=\"../pssd/orgs.php?organization=hospitals&amp;year=2012\">HTML</a>,\n",
       " <a href=\"../pssd/orgs.php?organization=other&amp;year=2012\">HTML</a>]"
      ]
     },
     "execution_count": 160,
     "metadata": {},
     "output_type": "execute_result"
    }
   ],
   "source": [
    "[link for link in links if link.text == \"HTML\" and \"orgs.php?organization=\" in link.attrs['href']]"
   ]
  },
  {
   "cell_type": "code",
   "execution_count": 155,
   "metadata": {
    "collapsed": false
   },
   "outputs": [
    {
     "data": {
      "text/plain": [
       "'#right_column'"
      ]
     },
     "execution_count": 155,
     "metadata": {},
     "output_type": "execute_result"
    }
   ],
   "source": [
    "l = links[3]\n",
    "l.attrs['href']"
   ]
  },
  {
   "cell_type": "code",
   "execution_count": null,
   "metadata": {
    "collapsed": true
   },
   "outputs": [],
   "source": []
  },
  {
   "cell_type": "code",
   "execution_count": null,
   "metadata": {
    "collapsed": true
   },
   "outputs": [],
   "source": []
  },
  {
   "cell_type": "code",
   "execution_count": null,
   "metadata": {
    "collapsed": true
   },
   "outputs": [],
   "source": []
  },
  {
   "cell_type": "code",
   "execution_count": null,
   "metadata": {
    "collapsed": true
   },
   "outputs": [],
   "source": []
  },
  {
   "cell_type": "code",
   "execution_count": null,
   "metadata": {
    "collapsed": false
   },
   "outputs": [],
   "source": []
  },
  {
   "cell_type": "markdown",
   "metadata": {
    "collapsed": false
   },
   "source": [
    "## Years 1997 - 2011\n",
    "\n",
    "Example URL: http://www.fin.gov.on.ca/en/publications/salarydisclosure/2009/\n",
    "\n"
   ]
  },
  {
   "cell_type": "code",
   "execution_count": null,
   "metadata": {
    "collapsed": false
   },
   "outputs": [],
   "source": []
  },
  {
   "cell_type": "code",
   "execution_count": null,
   "metadata": {
    "collapsed": true
   },
   "outputs": [],
   "source": []
  }
 ],
 "metadata": {
  "kernelspec": {
   "display_name": "Python 3",
   "language": "python",
   "name": "python3"
  },
  "language_info": {
   "codemirror_mode": {
    "name": "ipython",
    "version": 3
   },
   "file_extension": ".py",
   "mimetype": "text/x-python",
   "name": "python",
   "nbconvert_exporter": "python",
   "pygments_lexer": "ipython3",
   "version": "3.5.1"
  }
 },
 "nbformat": 4,
 "nbformat_minor": 0
}
