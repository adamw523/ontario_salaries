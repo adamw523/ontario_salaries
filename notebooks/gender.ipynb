{
 "cells": [
  {
   "cell_type": "code",
   "execution_count": 2,
   "metadata": {
    "collapsed": false
   },
   "outputs": [],
   "source": [
    "import zipfile\n",
    "import numpy as np\n",
    "import pandas as pd\n",
    "import re\n",
    "import seaborn as sns\n",
    "\n",
    "from collections import defaultdict"
   ]
  },
  {
   "cell_type": "markdown",
   "metadata": {},
   "source": [
    "## Names dataset for assigning gender\n",
    "\n",
    "Top 1000 US baby names with their gender since 1880\n",
    "\n",
    "https://www.ssa.gov/oact/babynames/limits.html"
   ]
  },
  {
   "cell_type": "code",
   "execution_count": 3,
   "metadata": {
    "collapsed": false
   },
   "outputs": [],
   "source": [
    "zf = zipfile.ZipFile('/data/names.zip')\n",
    "\n",
    "names = defaultdict(lambda: [0,0])\n",
    "\n",
    "for name in zf.namelist():\n",
    "    if name[-4:] == \".txt\":\n",
    "        f = zf.open(name)\n",
    "        for line in f.readlines():\n",
    "            elements = line.decode(\"utf-8\").split(\",\")\n",
    "            \n",
    "            current_counts = names[elements[0]]\n",
    "            \n",
    "            if elements[1] == 'M':\n",
    "                names[elements[0]] = [current_counts[0] + int(elements[2]), current_counts[1]]\n",
    "            else:\n",
    "                names[elements[0]] = [current_counts[0], current_counts[1] + int(elements[2])]\n",
    "                                    \n",
    "zf.close()"
   ]
  },
  {
   "cell_type": "code",
   "execution_count": 149,
   "metadata": {
    "collapsed": false
   },
   "outputs": [],
   "source": [
    "def m_or_f(name):\n",
    "    re_split = r'[\\ -]'\n",
    "    m, f = [\n",
    "        np.average([names[name][loc] for name in re.split(r'[\\ -]', name)])\n",
    "        for loc in [0,1]\n",
    "    ]\n",
    "    \n",
    "    if m > f:\n",
    "        return ['M', m / (m + f)]\n",
    "    elif f > m:\n",
    "        return ['F', f / (m + f)]\n",
    "    else:\n",
    "        return [None, 0]"
   ]
  },
  {
   "cell_type": "code",
   "execution_count": null,
   "metadata": {
    "collapsed": true
   },
   "outputs": [],
   "source": []
  },
  {
   "cell_type": "markdown",
   "metadata": {},
   "source": [
    "## Load salary data"
   ]
  },
  {
   "cell_type": "code",
   "execution_count": 150,
   "metadata": {
    "collapsed": false
   },
   "outputs": [
    {
     "name": "stdout",
     "output_type": "stream",
     "text": [
      "Matched 110388 names out of 115431 entries\n"
     ]
    }
   ],
   "source": [
    "salaries = pd.read_csv('/data/2015-combined-salary-seconded-en.csv')\n",
    "\n",
    "salaries['Salary Paid'] = salaries['Salary Paid'].apply(lambda x: float(re.sub(r'[\\$,]', '', x)))\n",
    "salaries['gender'] = salaries['First name'].apply( lambda x: m_or_f(x)[0] )\n",
    "\n",
    "\n",
    "print(\"Matched\", len(salaries) - len(salaries[ salaries['gender'].isnull() ]), \"names out of\", len(salaries), \"entries\")"
   ]
  },
  {
   "cell_type": "code",
   "execution_count": 151,
   "metadata": {
    "collapsed": false
   },
   "outputs": [
    {
     "data": {
      "text/html": [
       "<div>\n",
       "<table border=\"1\" class=\"dataframe\">\n",
       "  <thead>\n",
       "    <tr style=\"text-align: right;\">\n",
       "      <th></th>\n",
       "      <th>Sector</th>\n",
       "      <th>Last name</th>\n",
       "      <th>First name</th>\n",
       "      <th>Salary Paid</th>\n",
       "      <th>Taxable Benefits</th>\n",
       "      <th>Employer</th>\n",
       "      <th>Job title</th>\n",
       "      <th>Calendar Year</th>\n",
       "      <th>gender</th>\n",
       "    </tr>\n",
       "  </thead>\n",
       "  <tbody>\n",
       "    <tr>\n",
       "      <th>0</th>\n",
       "      <td>Government of Ontario - Ministries</td>\n",
       "      <td>Aniol</td>\n",
       "      <td>Richard</td>\n",
       "      <td>106143.8</td>\n",
       "      <td>$177.35</td>\n",
       "      <td>Aboriginal Affairs</td>\n",
       "      <td>Senior Negotiator / Négociateur principal</td>\n",
       "      <td>2015</td>\n",
       "      <td>M</td>\n",
       "    </tr>\n",
       "  </tbody>\n",
       "</table>\n",
       "</div>"
      ],
      "text/plain": [
       "                               Sector Last name First name  Salary Paid  \\\n",
       "0  Government of Ontario - Ministries     Aniol    Richard     106143.8   \n",
       "\n",
       "  Taxable Benefits            Employer  \\\n",
       "0          $177.35  Aboriginal Affairs   \n",
       "\n",
       "                                   Job title  Calendar Year gender  \n",
       "0  Senior Negotiator / Négociateur principal           2015      M  "
      ]
     },
     "execution_count": 151,
     "metadata": {},
     "output_type": "execute_result"
    }
   ],
   "source": [
    "salaries.head(1)"
   ]
  },
  {
   "cell_type": "code",
   "execution_count": 152,
   "metadata": {
    "collapsed": false
   },
   "outputs": [
    {
     "data": {
      "text/plain": [
       "gender\n",
       "F    123639.206867\n",
       "M    129158.439588\n",
       "Name: Salary Paid, dtype: float64"
      ]
     },
     "execution_count": 152,
     "metadata": {},
     "output_type": "execute_result"
    }
   ],
   "source": [
    "salaries.groupby(by='gender')['Salary Paid'].mean()"
   ]
  },
  {
   "cell_type": "code",
   "execution_count": 153,
   "metadata": {
    "collapsed": false,
    "scrolled": false
   },
   "outputs": [],
   "source": [
    "sector_grouped = salaries.groupby(by=['Sector', 'gender'])['Salary Paid'].mean()"
   ]
  },
  {
   "cell_type": "code",
   "execution_count": 154,
   "metadata": {
    "collapsed": false
   },
   "outputs": [
    {
     "data": {
      "text/plain": [
       "Sector                             gender\n",
       "Colleges                           F         113483.243822\n",
       "                                   M         113424.158068\n",
       "Crown Agencies                     F         133738.329018\n",
       "                                   M         136596.097323\n",
       "Government of Ontario - Judiciary  F         188860.401954\n",
       "Name: Salary Paid, dtype: float64"
      ]
     },
     "execution_count": 154,
     "metadata": {},
     "output_type": "execute_result"
    }
   ],
   "source": [
    "sector_grouped.head()"
   ]
  },
  {
   "cell_type": "code",
   "execution_count": 155,
   "metadata": {
    "collapsed": false
   },
   "outputs": [
    {
     "data": {
      "text/html": [
       "<div>\n",
       "<table border=\"1\" class=\"dataframe\">\n",
       "  <thead>\n",
       "    <tr style=\"text-align: right;\">\n",
       "      <th>gender</th>\n",
       "      <th>F</th>\n",
       "      <th>M</th>\n",
       "    </tr>\n",
       "    <tr>\n",
       "      <th>Sector</th>\n",
       "      <th></th>\n",
       "      <th></th>\n",
       "    </tr>\n",
       "  </thead>\n",
       "  <tbody>\n",
       "    <tr>\n",
       "      <th>Colleges</th>\n",
       "      <td>113483.243822</td>\n",
       "      <td>113424.158068</td>\n",
       "    </tr>\n",
       "    <tr>\n",
       "      <th>Crown Agencies</th>\n",
       "      <td>133738.329018</td>\n",
       "      <td>136596.097323</td>\n",
       "    </tr>\n",
       "    <tr>\n",
       "      <th>Government of Ontario - Judiciary</th>\n",
       "      <td>188860.401954</td>\n",
       "      <td>207865.903164</td>\n",
       "    </tr>\n",
       "    <tr>\n",
       "      <th>Government of Ontario - Legislative Assembly &amp; Offices</th>\n",
       "      <td>132952.340556</td>\n",
       "      <td>136534.997442</td>\n",
       "    </tr>\n",
       "    <tr>\n",
       "      <th>Government of Ontario - Ministries</th>\n",
       "      <td>126456.921790</td>\n",
       "      <td>123681.395110</td>\n",
       "    </tr>\n",
       "    <tr>\n",
       "      <th>Hospitals &amp; Boards of Public Health</th>\n",
       "      <td>122169.697159</td>\n",
       "      <td>148089.663957</td>\n",
       "    </tr>\n",
       "    <tr>\n",
       "      <th>Municipalities &amp; Services</th>\n",
       "      <td>118083.064644</td>\n",
       "      <td>119186.192592</td>\n",
       "    </tr>\n",
       "    <tr>\n",
       "      <th>Ontario Power Generation</th>\n",
       "      <td>131757.753402</td>\n",
       "      <td>142485.834662</td>\n",
       "    </tr>\n",
       "    <tr>\n",
       "      <th>Other Public Sector Employers</th>\n",
       "      <td>127708.508234</td>\n",
       "      <td>140126.273480</td>\n",
       "    </tr>\n",
       "    <tr>\n",
       "      <th>School Boards</th>\n",
       "      <td>112812.168479</td>\n",
       "      <td>114195.710656</td>\n",
       "    </tr>\n",
       "    <tr>\n",
       "      <th>Seconded (Children &amp; Youth Services)*</th>\n",
       "      <td>107269.360000</td>\n",
       "      <td>124454.080000</td>\n",
       "    </tr>\n",
       "    <tr>\n",
       "      <th>Seconded (Community &amp; Social Services)*</th>\n",
       "      <td>NaN</td>\n",
       "      <td>131395.660000</td>\n",
       "    </tr>\n",
       "    <tr>\n",
       "      <th>Seconded (Community Safety &amp; Correctional Services)*</th>\n",
       "      <td>111062.116667</td>\n",
       "      <td>112237.136538</td>\n",
       "    </tr>\n",
       "    <tr>\n",
       "      <th>Seconded (Education)*</th>\n",
       "      <td>128422.434103</td>\n",
       "      <td>132891.456250</td>\n",
       "    </tr>\n",
       "    <tr>\n",
       "      <th>Seconded (Energy)*</th>\n",
       "      <td>100297.250000</td>\n",
       "      <td>119287.530000</td>\n",
       "    </tr>\n",
       "    <tr>\n",
       "      <th>Seconded (Health &amp; Long–Term Care)*</th>\n",
       "      <td>127506.040000</td>\n",
       "      <td>273178.750000</td>\n",
       "    </tr>\n",
       "    <tr>\n",
       "      <th>Seconded (Labour)*</th>\n",
       "      <td>NaN</td>\n",
       "      <td>102417.140000</td>\n",
       "    </tr>\n",
       "    <tr>\n",
       "      <th>Universities</th>\n",
       "      <td>139647.731969</td>\n",
       "      <td>152324.139833</td>\n",
       "    </tr>\n",
       "  </tbody>\n",
       "</table>\n",
       "</div>"
      ],
      "text/plain": [
       "gender                                                          F  \\\n",
       "Sector                                                              \n",
       "Colleges                                            113483.243822   \n",
       "Crown Agencies                                      133738.329018   \n",
       "Government of Ontario - Judiciary                   188860.401954   \n",
       "Government of Ontario - Legislative Assembly & ...  132952.340556   \n",
       "Government of Ontario - Ministries                  126456.921790   \n",
       "Hospitals & Boards of Public Health                 122169.697159   \n",
       "Municipalities & Services                           118083.064644   \n",
       "Ontario Power Generation                            131757.753402   \n",
       "Other Public Sector Employers                       127708.508234   \n",
       "School Boards                                       112812.168479   \n",
       "Seconded (Children & Youth Services)*               107269.360000   \n",
       "Seconded (Community & Social Services)*                       NaN   \n",
       "Seconded (Community Safety & Correctional Servi...  111062.116667   \n",
       "Seconded (Education)*                               128422.434103   \n",
       "Seconded (Energy)*                                  100297.250000   \n",
       "Seconded (Health & Long–Term Care)*                 127506.040000   \n",
       "Seconded (Labour)*                                            NaN   \n",
       "Universities                                        139647.731969   \n",
       "\n",
       "gender                                                          M  \n",
       "Sector                                                             \n",
       "Colleges                                            113424.158068  \n",
       "Crown Agencies                                      136596.097323  \n",
       "Government of Ontario - Judiciary                   207865.903164  \n",
       "Government of Ontario - Legislative Assembly & ...  136534.997442  \n",
       "Government of Ontario - Ministries                  123681.395110  \n",
       "Hospitals & Boards of Public Health                 148089.663957  \n",
       "Municipalities & Services                           119186.192592  \n",
       "Ontario Power Generation                            142485.834662  \n",
       "Other Public Sector Employers                       140126.273480  \n",
       "School Boards                                       114195.710656  \n",
       "Seconded (Children & Youth Services)*               124454.080000  \n",
       "Seconded (Community & Social Services)*             131395.660000  \n",
       "Seconded (Community Safety & Correctional Servi...  112237.136538  \n",
       "Seconded (Education)*                               132891.456250  \n",
       "Seconded (Energy)*                                  119287.530000  \n",
       "Seconded (Health & Long–Term Care)*                 273178.750000  \n",
       "Seconded (Labour)*                                  102417.140000  \n",
       "Universities                                        152324.139833  "
      ]
     },
     "execution_count": 155,
     "metadata": {},
     "output_type": "execute_result"
    }
   ],
   "source": [
    "sector_grouped.unstack()\n",
    "\n"
   ]
  },
  {
   "cell_type": "code",
   "execution_count": 156,
   "metadata": {
    "collapsed": false
   },
   "outputs": [
    {
     "data": {
      "text/html": [
       "\n",
       "\n",
       "    <div class=\"plotdiv\" id=\"a9554da8-9401-42c4-afe4-636b4bf6b7e7\"></div>\n",
       "<script type=\"text/javascript\">\n",
       "  \n",
       "  (function(global) {\n",
       "    function now() {\n",
       "      return new Date();\n",
       "    }\n",
       "  \n",
       "    if (typeof (window._bokeh_onload_callbacks) === \"undefined\") {\n",
       "      window._bokeh_onload_callbacks = [];\n",
       "    }\n",
       "  \n",
       "    function run_callbacks() {\n",
       "      window._bokeh_onload_callbacks.forEach(function(callback) { callback() });\n",
       "      delete window._bokeh_onload_callbacks\n",
       "      console.info(\"Bokeh: all callbacks have finished\");\n",
       "    }\n",
       "  \n",
       "    function load_libs(js_urls, callback) {\n",
       "      window._bokeh_onload_callbacks.push(callback);\n",
       "      if (window._bokeh_is_loading > 0) {\n",
       "        console.log(\"Bokeh: BokehJS is being loaded, scheduling callback at\", now());\n",
       "        return null;\n",
       "      }\n",
       "      if (js_urls == null || js_urls.length === 0) {\n",
       "        run_callbacks();\n",
       "        return null;\n",
       "      }\n",
       "      console.log(\"Bokeh: BokehJS not loaded, scheduling load and callback at\", now());\n",
       "      window._bokeh_is_loading = js_urls.length;\n",
       "      for (var i = 0; i < js_urls.length; i++) {\n",
       "        var url = js_urls[i];\n",
       "        var s = document.createElement('script');\n",
       "        s.src = url;\n",
       "        s.async = false;\n",
       "        s.onreadystatechange = s.onload = function() {\n",
       "          window._bokeh_is_loading--;\n",
       "          if (window._bokeh_is_loading === 0) {\n",
       "            console.log(\"Bokeh: all BokehJS libraries loaded\");\n",
       "            run_callbacks()\n",
       "          }\n",
       "        };\n",
       "        s.onerror = function() {\n",
       "          console.warn(\"failed to load library \" + url);\n",
       "        };\n",
       "        console.log(\"Bokeh: injecting script tag for BokehJS library: \", url);\n",
       "        document.getElementsByTagName(\"head\")[0].appendChild(s);\n",
       "      }\n",
       "    };var element = document.getElementById(\"a9554da8-9401-42c4-afe4-636b4bf6b7e7\");\n",
       "    if (element == null) {\n",
       "      console.log(\"Bokeh: ERROR: autoload.js configured with elementid 'a9554da8-9401-42c4-afe4-636b4bf6b7e7' but no matching script tag was found. \")\n",
       "      return false;\n",
       "    }\n",
       "  \n",
       "    var js_urls = [];\n",
       "  \n",
       "    var inline_js = [\n",
       "      function(Bokeh) {\n",
       "        Bokeh.$(function() {\n",
       "            var docs_json = {\"107ad410-6b81-4ef7-b119-ee07b60d0a2c\":{\"roots\":{\"references\":[{\"attributes\":{\"plot\":{\"id\":\"1545afc3-32de-4e0f-a913-dac99f4f1f0f\",\"subtype\":\"Figure\",\"type\":\"Plot\"}},\"id\":\"2aeca7f9-318f-4487-a53d-9ae9347ae986\",\"type\":\"PreviewSaveTool\"},{\"attributes\":{\"plot\":{\"id\":\"1545afc3-32de-4e0f-a913-dac99f4f1f0f\",\"subtype\":\"Figure\",\"type\":\"Plot\"}},\"id\":\"e4377b8b-e46d-49d3-aa28-b3ccf6d4daeb\",\"type\":\"PanTool\"},{\"attributes\":{\"below\":[{\"id\":\"39b2eb0b-f4a5-4ead-9daa-f78beeddf42f\",\"type\":\"LinearAxis\"}],\"left\":[{\"id\":\"f0373ed7-67b5-4f1d-a643-4b5f4f585d95\",\"type\":\"LinearAxis\"}],\"renderers\":[{\"id\":\"39b2eb0b-f4a5-4ead-9daa-f78beeddf42f\",\"type\":\"LinearAxis\"},{\"id\":\"94933f25-8e26-4729-be48-14cba0f7e1a0\",\"type\":\"Grid\"},{\"id\":\"f0373ed7-67b5-4f1d-a643-4b5f4f585d95\",\"type\":\"LinearAxis\"},{\"id\":\"3c9f9c80-ffac-4ff9-8410-92e7689e86bc\",\"type\":\"Grid\"},{\"id\":\"807288ad-0c97-43cf-9611-fc81f890b92f\",\"type\":\"BoxAnnotation\"},{\"id\":\"4380168a-40d3-44be-8000-24a2a0ec8673\",\"type\":\"Legend\"},{\"id\":\"59564215-4ee3-45af-a9b3-ee8285570206\",\"type\":\"GlyphRenderer\"}],\"title\":\"simple line example\",\"tool_events\":{\"id\":\"e7ef003d-5fa7-4346-b802-3a75a7f31d84\",\"type\":\"ToolEvents\"},\"tools\":[{\"id\":\"a4dc6c0b-62d7-4190-98eb-4b4380a088af\",\"type\":\"PanTool\"},{\"id\":\"de7ee31f-0a08-44d1-8ba0-f4447d47063c\",\"type\":\"WheelZoomTool\"},{\"id\":\"2ddb7efd-a6d4-491e-a2a9-621544c8e79e\",\"type\":\"BoxZoomTool\"},{\"id\":\"3273c9b6-3555-47a4-b9f9-97fbfe91c205\",\"type\":\"PreviewSaveTool\"},{\"id\":\"867e9996-c806-4fc0-a0ee-6e7fa7b7c5c6\",\"type\":\"ResizeTool\"},{\"id\":\"b899e6bf-4b40-4df0-b839-e83dddd0c319\",\"type\":\"ResetTool\"},{\"id\":\"91c41ca5-d184-48db-b9ee-8eae25793146\",\"type\":\"HelpTool\"}],\"x_range\":{\"id\":\"9fd253fd-4a56-4b77-9df9-b2ea6d8cad79\",\"type\":\"DataRange1d\"},\"y_range\":{\"id\":\"ba3249bc-48d6-4b38-ba36-db5aade2d412\",\"type\":\"DataRange1d\"}},\"id\":\"ee3f7e5e-fdf6-4785-82a5-1cc08f9bddaf\",\"subtype\":\"Figure\",\"type\":\"Plot\"},{\"attributes\":{\"callback\":null,\"column_names\":[\"y\",\"x\"],\"data\":{\"x\":[1,2,3,4,5],\"y\":[6,7,2,4,5]}},\"id\":\"07757783-8751-49b5-9482-9c5c93630ba6\",\"type\":\"ColumnDataSource\"},{\"attributes\":{\"plot\":{\"id\":\"ee3f7e5e-fdf6-4785-82a5-1cc08f9bddaf\",\"subtype\":\"Figure\",\"type\":\"Plot\"}},\"id\":\"a4dc6c0b-62d7-4190-98eb-4b4380a088af\",\"type\":\"PanTool\"},{\"attributes\":{\"plot\":{\"id\":\"ee3f7e5e-fdf6-4785-82a5-1cc08f9bddaf\",\"subtype\":\"Figure\",\"type\":\"Plot\"},\"ticker\":{\"id\":\"c5f8ea04-b9fe-4260-bf14-77517fc767c0\",\"type\":\"BasicTicker\"}},\"id\":\"94933f25-8e26-4729-be48-14cba0f7e1a0\",\"type\":\"Grid\"},{\"attributes\":{\"plot\":{\"id\":\"1545afc3-32de-4e0f-a913-dac99f4f1f0f\",\"subtype\":\"Figure\",\"type\":\"Plot\"}},\"id\":\"81e88643-d46e-48a0-ac34-606004233109\",\"type\":\"HelpTool\"},{\"attributes\":{\"below\":[{\"id\":\"382ab5d9-cc0b-40ce-b2b2-87378ae93647\",\"type\":\"LinearAxis\"}],\"left\":[{\"id\":\"21fa982e-e802-4033-b97b-a5074b49dbe0\",\"type\":\"LinearAxis\"}],\"renderers\":[{\"id\":\"382ab5d9-cc0b-40ce-b2b2-87378ae93647\",\"type\":\"LinearAxis\"},{\"id\":\"1f5ef127-7ef4-430a-b7f9-4ce9f84482b0\",\"type\":\"Grid\"},{\"id\":\"21fa982e-e802-4033-b97b-a5074b49dbe0\",\"type\":\"LinearAxis\"},{\"id\":\"786782d5-1032-4f61-966a-949e95953930\",\"type\":\"Grid\"},{\"id\":\"eb6cdd4d-2ce3-4666-87e1-3cf0fb5b9185\",\"type\":\"BoxAnnotation\"},{\"id\":\"db4877e5-ba1c-44b1-a0e7-25717b96665b\",\"type\":\"Legend\"},{\"id\":\"8328f052-8241-4a73-9e79-d454041aee93\",\"type\":\"GlyphRenderer\"}],\"title\":\"simple line example\",\"tool_events\":{\"id\":\"4dd8a4c6-c19b-4585-815f-433b00e4b440\",\"type\":\"ToolEvents\"},\"tools\":[{\"id\":\"e4377b8b-e46d-49d3-aa28-b3ccf6d4daeb\",\"type\":\"PanTool\"},{\"id\":\"e9720edb-cb07-4267-a29d-48378d3fbe5b\",\"type\":\"WheelZoomTool\"},{\"id\":\"3e88d999-643b-4070-8ef5-1892faa7a7df\",\"type\":\"BoxZoomTool\"},{\"id\":\"2aeca7f9-318f-4487-a53d-9ae9347ae986\",\"type\":\"PreviewSaveTool\"},{\"id\":\"6d1b1ae4-2865-42da-aae8-6d5b6bdc37d1\",\"type\":\"ResizeTool\"},{\"id\":\"8e58acd3-6972-4ec0-b779-edd9f2aedd24\",\"type\":\"ResetTool\"},{\"id\":\"81e88643-d46e-48a0-ac34-606004233109\",\"type\":\"HelpTool\"}],\"x_range\":{\"id\":\"9056e953-4226-4a4d-81a4-301bda2b1a89\",\"type\":\"DataRange1d\"},\"y_range\":{\"id\":\"71f9773d-c347-4035-a4f1-28d949a7f5b0\",\"type\":\"DataRange1d\"}},\"id\":\"1545afc3-32de-4e0f-a913-dac99f4f1f0f\",\"subtype\":\"Figure\",\"type\":\"Plot\"},{\"attributes\":{\"overlay\":{\"id\":\"332e6581-f1ec-4b01-ac99-96f7512b67b0\",\"type\":\"BoxAnnotation\"},\"plot\":{\"id\":\"77bebbab-4aaf-498f-82c6-dbbb436afc6a\",\"subtype\":\"Figure\",\"type\":\"Plot\"}},\"id\":\"5fc89103-27d8-4ea4-aed6-d6be665af4f7\",\"type\":\"BoxZoomTool\"},{\"attributes\":{},\"id\":\"10c9dbbf-cff0-493b-b834-ae5a8af1a42f\",\"type\":\"ToolEvents\"},{\"attributes\":{\"plot\":{\"id\":\"77bebbab-4aaf-498f-82c6-dbbb436afc6a\",\"subtype\":\"Figure\",\"type\":\"Plot\"}},\"id\":\"5a7764e1-7a9f-43c1-b49a-ef1fde03b2dd\",\"type\":\"WheelZoomTool\"},{\"attributes\":{},\"id\":\"4ccfa02d-43c7-4c33-a69e-51de2cd60f4c\",\"type\":\"BasicTickFormatter\"},{\"attributes\":{\"callback\":null,\"column_names\":[\"y\",\"x\"],\"data\":{\"x\":[1,2,3,4,5],\"y\":[6,7,2,4,5]}},\"id\":\"03d673fb-5d18-4f02-a09d-bee0aebe5472\",\"type\":\"ColumnDataSource\"},{\"attributes\":{\"bottom_units\":\"screen\",\"fill_alpha\":{\"value\":0.5},\"fill_color\":{\"value\":\"lightgrey\"},\"left_units\":\"screen\",\"level\":\"overlay\",\"line_alpha\":{\"value\":1.0},\"line_color\":{\"value\":\"black\"},\"line_dash\":[4,4],\"line_width\":{\"value\":2},\"plot\":null,\"render_mode\":\"css\",\"right_units\":\"screen\",\"top_units\":\"screen\"},\"id\":\"eb6cdd4d-2ce3-4666-87e1-3cf0fb5b9185\",\"type\":\"BoxAnnotation\"},{\"attributes\":{\"overlay\":{\"id\":\"807288ad-0c97-43cf-9611-fc81f890b92f\",\"type\":\"BoxAnnotation\"},\"plot\":{\"id\":\"ee3f7e5e-fdf6-4785-82a5-1cc08f9bddaf\",\"subtype\":\"Figure\",\"type\":\"Plot\"}},\"id\":\"2ddb7efd-a6d4-491e-a2a9-621544c8e79e\",\"type\":\"BoxZoomTool\"},{\"attributes\":{\"callback\":null},\"id\":\"71f9773d-c347-4035-a4f1-28d949a7f5b0\",\"type\":\"DataRange1d\"},{\"attributes\":{},\"id\":\"647021f9-ac07-4bbd-bc4a-65fbe0289868\",\"type\":\"BasicTickFormatter\"},{\"attributes\":{\"plot\":{\"id\":\"1545afc3-32de-4e0f-a913-dac99f4f1f0f\",\"subtype\":\"Figure\",\"type\":\"Plot\"}},\"id\":\"e9720edb-cb07-4267-a29d-48378d3fbe5b\",\"type\":\"WheelZoomTool\"},{\"attributes\":{\"bottom_units\":\"screen\",\"fill_alpha\":{\"value\":0.5},\"fill_color\":{\"value\":\"lightgrey\"},\"left_units\":\"screen\",\"level\":\"overlay\",\"line_alpha\":{\"value\":1.0},\"line_color\":{\"value\":\"black\"},\"line_dash\":[4,4],\"line_width\":{\"value\":2},\"plot\":null,\"render_mode\":\"css\",\"right_units\":\"screen\",\"top_units\":\"screen\"},\"id\":\"332e6581-f1ec-4b01-ac99-96f7512b67b0\",\"type\":\"BoxAnnotation\"},{\"attributes\":{\"callback\":null},\"id\":\"9056e953-4226-4a4d-81a4-301bda2b1a89\",\"type\":\"DataRange1d\"},{\"attributes\":{\"plot\":{\"id\":\"ee3f7e5e-fdf6-4785-82a5-1cc08f9bddaf\",\"subtype\":\"Figure\",\"type\":\"Plot\"}},\"id\":\"de7ee31f-0a08-44d1-8ba0-f4447d47063c\",\"type\":\"WheelZoomTool\"},{\"attributes\":{},\"id\":\"e7ef003d-5fa7-4346-b802-3a75a7f31d84\",\"type\":\"ToolEvents\"},{\"attributes\":{},\"id\":\"59e3018b-cd5a-4f3c-98a7-dc48ada3617c\",\"type\":\"BasicTicker\"},{\"attributes\":{},\"id\":\"69b5060f-7080-431c-9ccd-cd8c93d1892d\",\"type\":\"BasicTickFormatter\"},{\"attributes\":{\"callback\":null},\"id\":\"9fd253fd-4a56-4b77-9df9-b2ea6d8cad79\",\"type\":\"DataRange1d\"},{\"attributes\":{},\"id\":\"57520d63-2135-4f48-8cb5-b973af25acf4\",\"type\":\"BasicTicker\"},{\"attributes\":{\"plot\":{\"id\":\"77bebbab-4aaf-498f-82c6-dbbb436afc6a\",\"subtype\":\"Figure\",\"type\":\"Plot\"}},\"id\":\"49f0dff4-73fc-4c7f-ad92-cfadaf2dcfa4\",\"type\":\"PreviewSaveTool\"},{\"attributes\":{\"plot\":{\"id\":\"77bebbab-4aaf-498f-82c6-dbbb436afc6a\",\"subtype\":\"Figure\",\"type\":\"Plot\"}},\"id\":\"885bd104-bfe6-42bb-a745-53ab59169e06\",\"type\":\"ResizeTool\"},{\"attributes\":{\"axis_label\":\"y\",\"formatter\":{\"id\":\"4ccfa02d-43c7-4c33-a69e-51de2cd60f4c\",\"type\":\"BasicTickFormatter\"},\"plot\":{\"id\":\"ee3f7e5e-fdf6-4785-82a5-1cc08f9bddaf\",\"subtype\":\"Figure\",\"type\":\"Plot\"},\"ticker\":{\"id\":\"87b7b4ef-8393-45bd-b1e2-2e5887c34d92\",\"type\":\"BasicTicker\"}},\"id\":\"f0373ed7-67b5-4f1d-a643-4b5f4f585d95\",\"type\":\"LinearAxis\"},{\"attributes\":{\"overlay\":{\"id\":\"eb6cdd4d-2ce3-4666-87e1-3cf0fb5b9185\",\"type\":\"BoxAnnotation\"},\"plot\":{\"id\":\"1545afc3-32de-4e0f-a913-dac99f4f1f0f\",\"subtype\":\"Figure\",\"type\":\"Plot\"}},\"id\":\"3e88d999-643b-4070-8ef5-1892faa7a7df\",\"type\":\"BoxZoomTool\"},{\"attributes\":{\"plot\":{\"id\":\"1545afc3-32de-4e0f-a913-dac99f4f1f0f\",\"subtype\":\"Figure\",\"type\":\"Plot\"}},\"id\":\"6d1b1ae4-2865-42da-aae8-6d5b6bdc37d1\",\"type\":\"ResizeTool\"},{\"attributes\":{\"line_color\":{\"value\":\"#1f77b4\"},\"line_width\":{\"value\":2},\"x\":{\"field\":\"x\"},\"y\":{\"field\":\"y\"}},\"id\":\"a11af5bc-d312-4d6e-be22-7622dd5b0cad\",\"type\":\"Line\"},{\"attributes\":{\"dimension\":1,\"plot\":{\"id\":\"1545afc3-32de-4e0f-a913-dac99f4f1f0f\",\"subtype\":\"Figure\",\"type\":\"Plot\"},\"ticker\":{\"id\":\"57520d63-2135-4f48-8cb5-b973af25acf4\",\"type\":\"BasicTicker\"}},\"id\":\"786782d5-1032-4f61-966a-949e95953930\",\"type\":\"Grid\"},{\"attributes\":{\"plot\":{\"id\":\"77bebbab-4aaf-498f-82c6-dbbb436afc6a\",\"subtype\":\"Figure\",\"type\":\"Plot\"}},\"id\":\"f324b90a-d110-404c-bbd8-123a38b393cf\",\"type\":\"HelpTool\"},{\"attributes\":{\"dimension\":1,\"plot\":{\"id\":\"77bebbab-4aaf-498f-82c6-dbbb436afc6a\",\"subtype\":\"Figure\",\"type\":\"Plot\"},\"ticker\":{\"id\":\"205cae2c-c76b-47ae-85f8-7580b8a2f3be\",\"type\":\"BasicTicker\"}},\"id\":\"105837fc-a8f2-43d6-aacd-824469709451\",\"type\":\"Grid\"},{\"attributes\":{\"dimension\":1,\"plot\":{\"id\":\"ee3f7e5e-fdf6-4785-82a5-1cc08f9bddaf\",\"subtype\":\"Figure\",\"type\":\"Plot\"},\"ticker\":{\"id\":\"87b7b4ef-8393-45bd-b1e2-2e5887c34d92\",\"type\":\"BasicTicker\"}},\"id\":\"3c9f9c80-ffac-4ff9-8410-92e7689e86bc\",\"type\":\"Grid\"},{\"attributes\":{\"callback\":null,\"column_names\":[\"y\",\"x\"],\"data\":{\"x\":[1,2,3,4,5],\"y\":[6,7,2,4,5]}},\"id\":\"5714fa9e-ce37-4c85-99a7-640c51cd298c\",\"type\":\"ColumnDataSource\"},{\"attributes\":{\"plot\":{\"id\":\"ee3f7e5e-fdf6-4785-82a5-1cc08f9bddaf\",\"subtype\":\"Figure\",\"type\":\"Plot\"}},\"id\":\"b899e6bf-4b40-4df0-b839-e83dddd0c319\",\"type\":\"ResetTool\"},{\"attributes\":{\"plot\":{\"id\":\"1545afc3-32de-4e0f-a913-dac99f4f1f0f\",\"subtype\":\"Figure\",\"type\":\"Plot\"},\"ticker\":{\"id\":\"0876e62f-f483-42c6-b132-96422b4c1a80\",\"type\":\"BasicTicker\"}},\"id\":\"1f5ef127-7ef4-430a-b7f9-4ce9f84482b0\",\"type\":\"Grid\"},{\"attributes\":{},\"id\":\"0876e62f-f483-42c6-b132-96422b4c1a80\",\"type\":\"BasicTicker\"},{\"attributes\":{\"plot\":{\"id\":\"77bebbab-4aaf-498f-82c6-dbbb436afc6a\",\"subtype\":\"Figure\",\"type\":\"Plot\"}},\"id\":\"9a461298-a630-4887-aa5c-55266159a96d\",\"type\":\"PanTool\"},{\"attributes\":{\"axis_label\":\"y\",\"formatter\":{\"id\":\"5baddc68-9da8-41da-b637-4a34635b46ef\",\"type\":\"BasicTickFormatter\"},\"plot\":{\"id\":\"77bebbab-4aaf-498f-82c6-dbbb436afc6a\",\"subtype\":\"Figure\",\"type\":\"Plot\"},\"ticker\":{\"id\":\"205cae2c-c76b-47ae-85f8-7580b8a2f3be\",\"type\":\"BasicTicker\"}},\"id\":\"873398ba-7ba5-44d2-9da5-688c7ff85843\",\"type\":\"LinearAxis\"},{\"attributes\":{\"data_source\":{\"id\":\"03d673fb-5d18-4f02-a09d-bee0aebe5472\",\"type\":\"ColumnDataSource\"},\"glyph\":{\"id\":\"27d33334-394c-4077-8a78-4591c01bf00d\",\"type\":\"Line\"},\"hover_glyph\":null,\"nonselection_glyph\":{\"id\":\"672ece45-20bc-4013-8a69-11fb4824cad0\",\"type\":\"Line\"},\"selection_glyph\":null},\"id\":\"59564215-4ee3-45af-a9b3-ee8285570206\",\"type\":\"GlyphRenderer\"},{\"attributes\":{},\"id\":\"205cae2c-c76b-47ae-85f8-7580b8a2f3be\",\"type\":\"BasicTicker\"},{\"attributes\":{\"data_source\":{\"id\":\"5714fa9e-ce37-4c85-99a7-640c51cd298c\",\"type\":\"ColumnDataSource\"},\"glyph\":{\"id\":\"a11af5bc-d312-4d6e-be22-7622dd5b0cad\",\"type\":\"Line\"},\"hover_glyph\":null,\"nonselection_glyph\":{\"id\":\"2f31f443-be85-4aaa-a2f8-d5b8828fba3b\",\"type\":\"Line\"},\"selection_glyph\":null},\"id\":\"b1dc0b89-3452-4bc8-954a-d79bdcf983dd\",\"type\":\"GlyphRenderer\"},{\"attributes\":{\"data_source\":{\"id\":\"07757783-8751-49b5-9482-9c5c93630ba6\",\"type\":\"ColumnDataSource\"},\"glyph\":{\"id\":\"8fd245da-fac2-40cd-81e3-d42cfc1d1e6d\",\"type\":\"Line\"},\"hover_glyph\":null,\"nonselection_glyph\":{\"id\":\"e4fb5423-8ef1-4007-87d5-52cceac6ddfc\",\"type\":\"Line\"},\"selection_glyph\":null},\"id\":\"8328f052-8241-4a73-9e79-d454041aee93\",\"type\":\"GlyphRenderer\"},{\"attributes\":{\"axis_label\":\"x\",\"formatter\":{\"id\":\"cb849f02-d89c-489d-9459-ae5f6c961f56\",\"type\":\"BasicTickFormatter\"},\"plot\":{\"id\":\"77bebbab-4aaf-498f-82c6-dbbb436afc6a\",\"subtype\":\"Figure\",\"type\":\"Plot\"},\"ticker\":{\"id\":\"59e3018b-cd5a-4f3c-98a7-dc48ada3617c\",\"type\":\"BasicTicker\"}},\"id\":\"998b671b-59e1-4d5d-9639-82d0dcbb08f1\",\"type\":\"LinearAxis\"},{\"attributes\":{\"plot\":{\"id\":\"ee3f7e5e-fdf6-4785-82a5-1cc08f9bddaf\",\"subtype\":\"Figure\",\"type\":\"Plot\"}},\"id\":\"91c41ca5-d184-48db-b9ee-8eae25793146\",\"type\":\"HelpTool\"},{\"attributes\":{},\"id\":\"87b7b4ef-8393-45bd-b1e2-2e5887c34d92\",\"type\":\"BasicTicker\"},{\"attributes\":{\"legends\":[[\"Temp.\",[{\"id\":\"59564215-4ee3-45af-a9b3-ee8285570206\",\"type\":\"GlyphRenderer\"}]]],\"plot\":{\"id\":\"ee3f7e5e-fdf6-4785-82a5-1cc08f9bddaf\",\"subtype\":\"Figure\",\"type\":\"Plot\"}},\"id\":\"4380168a-40d3-44be-8000-24a2a0ec8673\",\"type\":\"Legend\"},{\"attributes\":{\"legends\":[[\"Temp.\",[{\"id\":\"b1dc0b89-3452-4bc8-954a-d79bdcf983dd\",\"type\":\"GlyphRenderer\"}]]],\"plot\":{\"id\":\"77bebbab-4aaf-498f-82c6-dbbb436afc6a\",\"subtype\":\"Figure\",\"type\":\"Plot\"}},\"id\":\"05216072-f10a-4b99-b7ea-4b166915d0db\",\"type\":\"Legend\"},{\"attributes\":{\"line_color\":{\"value\":\"#1f77b4\"},\"line_width\":{\"value\":2},\"x\":{\"field\":\"x\"},\"y\":{\"field\":\"y\"}},\"id\":\"27d33334-394c-4077-8a78-4591c01bf00d\",\"type\":\"Line\"},{\"attributes\":{\"below\":[{\"id\":\"998b671b-59e1-4d5d-9639-82d0dcbb08f1\",\"type\":\"LinearAxis\"}],\"left\":[{\"id\":\"873398ba-7ba5-44d2-9da5-688c7ff85843\",\"type\":\"LinearAxis\"}],\"renderers\":[{\"id\":\"998b671b-59e1-4d5d-9639-82d0dcbb08f1\",\"type\":\"LinearAxis\"},{\"id\":\"e26ef053-962e-4caa-beea-07cee6c25e81\",\"type\":\"Grid\"},{\"id\":\"873398ba-7ba5-44d2-9da5-688c7ff85843\",\"type\":\"LinearAxis\"},{\"id\":\"105837fc-a8f2-43d6-aacd-824469709451\",\"type\":\"Grid\"},{\"id\":\"332e6581-f1ec-4b01-ac99-96f7512b67b0\",\"type\":\"BoxAnnotation\"},{\"id\":\"05216072-f10a-4b99-b7ea-4b166915d0db\",\"type\":\"Legend\"},{\"id\":\"b1dc0b89-3452-4bc8-954a-d79bdcf983dd\",\"type\":\"GlyphRenderer\"}],\"title\":\"simple line example\",\"tool_events\":{\"id\":\"10c9dbbf-cff0-493b-b834-ae5a8af1a42f\",\"type\":\"ToolEvents\"},\"tools\":[{\"id\":\"9a461298-a630-4887-aa5c-55266159a96d\",\"type\":\"PanTool\"},{\"id\":\"5a7764e1-7a9f-43c1-b49a-ef1fde03b2dd\",\"type\":\"WheelZoomTool\"},{\"id\":\"5fc89103-27d8-4ea4-aed6-d6be665af4f7\",\"type\":\"BoxZoomTool\"},{\"id\":\"49f0dff4-73fc-4c7f-ad92-cfadaf2dcfa4\",\"type\":\"PreviewSaveTool\"},{\"id\":\"885bd104-bfe6-42bb-a745-53ab59169e06\",\"type\":\"ResizeTool\"},{\"id\":\"14800657-e72f-4e35-bb44-ba6c28b9d6fc\",\"type\":\"ResetTool\"},{\"id\":\"f324b90a-d110-404c-bbd8-123a38b393cf\",\"type\":\"HelpTool\"}],\"x_range\":{\"id\":\"03b05f82-cf1a-4c68-8c58-fdf916a28cf1\",\"type\":\"DataRange1d\"},\"y_range\":{\"id\":\"7276322a-5290-43fd-bd12-aca17f9eaa9c\",\"type\":\"DataRange1d\"}},\"id\":\"77bebbab-4aaf-498f-82c6-dbbb436afc6a\",\"subtype\":\"Figure\",\"type\":\"Plot\"},{\"attributes\":{},\"id\":\"4dd8a4c6-c19b-4585-815f-433b00e4b440\",\"type\":\"ToolEvents\"},{\"attributes\":{\"axis_label\":\"y\",\"formatter\":{\"id\":\"647021f9-ac07-4bbd-bc4a-65fbe0289868\",\"type\":\"BasicTickFormatter\"},\"plot\":{\"id\":\"1545afc3-32de-4e0f-a913-dac99f4f1f0f\",\"subtype\":\"Figure\",\"type\":\"Plot\"},\"ticker\":{\"id\":\"57520d63-2135-4f48-8cb5-b973af25acf4\",\"type\":\"BasicTicker\"}},\"id\":\"21fa982e-e802-4033-b97b-a5074b49dbe0\",\"type\":\"LinearAxis\"},{\"attributes\":{\"plot\":{\"id\":\"77bebbab-4aaf-498f-82c6-dbbb436afc6a\",\"subtype\":\"Figure\",\"type\":\"Plot\"},\"ticker\":{\"id\":\"59e3018b-cd5a-4f3c-98a7-dc48ada3617c\",\"type\":\"BasicTicker\"}},\"id\":\"e26ef053-962e-4caa-beea-07cee6c25e81\",\"type\":\"Grid\"},{\"attributes\":{\"axis_label\":\"x\",\"formatter\":{\"id\":\"42b514da-744c-43e7-8a1d-4405405576fa\",\"type\":\"BasicTickFormatter\"},\"plot\":{\"id\":\"1545afc3-32de-4e0f-a913-dac99f4f1f0f\",\"subtype\":\"Figure\",\"type\":\"Plot\"},\"ticker\":{\"id\":\"0876e62f-f483-42c6-b132-96422b4c1a80\",\"type\":\"BasicTicker\"}},\"id\":\"382ab5d9-cc0b-40ce-b2b2-87378ae93647\",\"type\":\"LinearAxis\"},{\"attributes\":{\"line_alpha\":{\"value\":0.1},\"line_color\":{\"value\":\"#1f77b4\"},\"line_width\":{\"value\":2},\"x\":{\"field\":\"x\"},\"y\":{\"field\":\"y\"}},\"id\":\"672ece45-20bc-4013-8a69-11fb4824cad0\",\"type\":\"Line\"},{\"attributes\":{},\"id\":\"5baddc68-9da8-41da-b637-4a34635b46ef\",\"type\":\"BasicTickFormatter\"},{\"attributes\":{\"plot\":{\"id\":\"1545afc3-32de-4e0f-a913-dac99f4f1f0f\",\"subtype\":\"Figure\",\"type\":\"Plot\"}},\"id\":\"8e58acd3-6972-4ec0-b779-edd9f2aedd24\",\"type\":\"ResetTool\"},{\"attributes\":{\"plot\":{\"id\":\"ee3f7e5e-fdf6-4785-82a5-1cc08f9bddaf\",\"subtype\":\"Figure\",\"type\":\"Plot\"}},\"id\":\"3273c9b6-3555-47a4-b9f9-97fbfe91c205\",\"type\":\"PreviewSaveTool\"},{\"attributes\":{},\"id\":\"c5f8ea04-b9fe-4260-bf14-77517fc767c0\",\"type\":\"BasicTicker\"},{\"attributes\":{\"plot\":{\"id\":\"77bebbab-4aaf-498f-82c6-dbbb436afc6a\",\"subtype\":\"Figure\",\"type\":\"Plot\"}},\"id\":\"14800657-e72f-4e35-bb44-ba6c28b9d6fc\",\"type\":\"ResetTool\"},{\"attributes\":{\"line_color\":{\"value\":\"#1f77b4\"},\"line_width\":{\"value\":2},\"x\":{\"field\":\"x\"},\"y\":{\"field\":\"y\"}},\"id\":\"8fd245da-fac2-40cd-81e3-d42cfc1d1e6d\",\"type\":\"Line\"},{\"attributes\":{\"callback\":null},\"id\":\"03b05f82-cf1a-4c68-8c58-fdf916a28cf1\",\"type\":\"DataRange1d\"},{\"attributes\":{\"line_alpha\":{\"value\":0.1},\"line_color\":{\"value\":\"#1f77b4\"},\"line_width\":{\"value\":2},\"x\":{\"field\":\"x\"},\"y\":{\"field\":\"y\"}},\"id\":\"2f31f443-be85-4aaa-a2f8-d5b8828fba3b\",\"type\":\"Line\"},{\"attributes\":{},\"id\":\"cb849f02-d89c-489d-9459-ae5f6c961f56\",\"type\":\"BasicTickFormatter\"},{\"attributes\":{\"callback\":null},\"id\":\"7276322a-5290-43fd-bd12-aca17f9eaa9c\",\"type\":\"DataRange1d\"},{\"attributes\":{\"plot\":{\"id\":\"ee3f7e5e-fdf6-4785-82a5-1cc08f9bddaf\",\"subtype\":\"Figure\",\"type\":\"Plot\"}},\"id\":\"867e9996-c806-4fc0-a0ee-6e7fa7b7c5c6\",\"type\":\"ResizeTool\"},{\"attributes\":{\"callback\":null},\"id\":\"ba3249bc-48d6-4b38-ba36-db5aade2d412\",\"type\":\"DataRange1d\"},{\"attributes\":{\"bottom_units\":\"screen\",\"fill_alpha\":{\"value\":0.5},\"fill_color\":{\"value\":\"lightgrey\"},\"left_units\":\"screen\",\"level\":\"overlay\",\"line_alpha\":{\"value\":1.0},\"line_color\":{\"value\":\"black\"},\"line_dash\":[4,4],\"line_width\":{\"value\":2},\"plot\":null,\"render_mode\":\"css\",\"right_units\":\"screen\",\"top_units\":\"screen\"},\"id\":\"807288ad-0c97-43cf-9611-fc81f890b92f\",\"type\":\"BoxAnnotation\"},{\"attributes\":{},\"id\":\"42b514da-744c-43e7-8a1d-4405405576fa\",\"type\":\"BasicTickFormatter\"},{\"attributes\":{\"line_alpha\":{\"value\":0.1},\"line_color\":{\"value\":\"#1f77b4\"},\"line_width\":{\"value\":2},\"x\":{\"field\":\"x\"},\"y\":{\"field\":\"y\"}},\"id\":\"e4fb5423-8ef1-4007-87d5-52cceac6ddfc\",\"type\":\"Line\"},{\"attributes\":{\"axis_label\":\"x\",\"formatter\":{\"id\":\"69b5060f-7080-431c-9ccd-cd8c93d1892d\",\"type\":\"BasicTickFormatter\"},\"plot\":{\"id\":\"ee3f7e5e-fdf6-4785-82a5-1cc08f9bddaf\",\"subtype\":\"Figure\",\"type\":\"Plot\"},\"ticker\":{\"id\":\"c5f8ea04-b9fe-4260-bf14-77517fc767c0\",\"type\":\"BasicTicker\"}},\"id\":\"39b2eb0b-f4a5-4ead-9daa-f78beeddf42f\",\"type\":\"LinearAxis\"},{\"attributes\":{\"legends\":[[\"Temp.\",[{\"id\":\"8328f052-8241-4a73-9e79-d454041aee93\",\"type\":\"GlyphRenderer\"}]]],\"plot\":{\"id\":\"1545afc3-32de-4e0f-a913-dac99f4f1f0f\",\"subtype\":\"Figure\",\"type\":\"Plot\"}},\"id\":\"db4877e5-ba1c-44b1-a0e7-25717b96665b\",\"type\":\"Legend\"}],\"root_ids\":[\"77bebbab-4aaf-498f-82c6-dbbb436afc6a\",\"ee3f7e5e-fdf6-4785-82a5-1cc08f9bddaf\",\"1545afc3-32de-4e0f-a913-dac99f4f1f0f\"]},\"title\":\"Bokeh Application\",\"version\":\"0.11.1\"}};\n",
       "            var render_items = [{\"docid\":\"107ad410-6b81-4ef7-b119-ee07b60d0a2c\",\"elementid\":\"a9554da8-9401-42c4-afe4-636b4bf6b7e7\",\"modelid\":\"1545afc3-32de-4e0f-a913-dac99f4f1f0f\",\"notebook_comms_target\":\"b102af01-49ff-4d6d-b729-1ac99bc3f09f\"}];\n",
       "            \n",
       "            Bokeh.embed.embed_items(docs_json, render_items);\n",
       "        });\n",
       "      },\n",
       "      function(Bokeh) {\n",
       "      }\n",
       "    ];\n",
       "  \n",
       "    function run_inline_js() {\n",
       "      for (var i = 0; i < inline_js.length; i++) {\n",
       "        inline_js[i](window.Bokeh);\n",
       "      }\n",
       "    }\n",
       "  \n",
       "    if (window._bokeh_is_loading === 0) {\n",
       "      console.log(\"Bokeh: BokehJS loaded, going straight to plotting\");\n",
       "      run_inline_js();\n",
       "    } else {\n",
       "      load_libs(js_urls, function() {\n",
       "        console.log(\"Bokeh: BokehJS plotting callback run at\", now());\n",
       "        run_inline_js();\n",
       "      });\n",
       "    }\n",
       "  }(this));\n",
       "</script>"
      ]
     },
     "metadata": {},
     "output_type": "display_data"
    },
    {
     "data": {
      "text/html": [
       "<p><code>&lt;Bokeh Notebook handle for <strong>In[156]</strong>&gt;</code></p>"
      ],
      "text/plain": [
       "<bokeh.io._CommsHandle at 0x7fa8009b46a0>"
      ]
     },
     "execution_count": 156,
     "metadata": {},
     "output_type": "execute_result"
    }
   ],
   "source": [
    "from bokeh.plotting import figure, output_file, show\n",
    "\n",
    "# prepare some data\n",
    "x = [1, 2, 3, 4, 5]\n",
    "y = [6, 7, 2, 4, 5]\n",
    "\n",
    "# output to static HTML file\n",
    "output_file(\"lines.html\", title=\"line plot example\")\n",
    "\n",
    "# create a new plot with a title and axis labels\n",
    "p = figure(title=\"simple line example\", x_axis_label='x', y_axis_label='y')\n",
    "\n",
    "# add a line renderer with legend and line thickness\n",
    "p.line(x, y, legend=\"Temp.\", line_width=2)\n",
    "\n",
    "# show the results\n",
    "show(p)"
   ]
  },
  {
   "cell_type": "code",
   "execution_count": null,
   "metadata": {
    "collapsed": true
   },
   "outputs": [],
   "source": []
  },
  {
   "cell_type": "code",
   "execution_count": null,
   "metadata": {
    "collapsed": true
   },
   "outputs": [],
   "source": []
  },
  {
   "cell_type": "code",
   "execution_count": null,
   "metadata": {
    "collapsed": true
   },
   "outputs": [],
   "source": []
  },
  {
   "cell_type": "code",
   "execution_count": null,
   "metadata": {
    "collapsed": true
   },
   "outputs": [],
   "source": []
  },
  {
   "cell_type": "code",
   "execution_count": null,
   "metadata": {
    "collapsed": true
   },
   "outputs": [],
   "source": []
  },
  {
   "cell_type": "code",
   "execution_count": null,
   "metadata": {
    "collapsed": true
   },
   "outputs": [],
   "source": []
  },
  {
   "cell_type": "code",
   "execution_count": null,
   "metadata": {
    "collapsed": true
   },
   "outputs": [],
   "source": []
  },
  {
   "cell_type": "code",
   "execution_count": null,
   "metadata": {
    "collapsed": false
   },
   "outputs": [],
   "source": []
  },
  {
   "cell_type": "code",
   "execution_count": null,
   "metadata": {
    "collapsed": true
   },
   "outputs": [],
   "source": []
  }
 ],
 "metadata": {
  "kernelspec": {
   "display_name": "Python 3",
   "language": "python",
   "name": "python3"
  },
  "language_info": {
   "codemirror_mode": {
    "name": "ipython",
    "version": 3
   },
   "file_extension": ".py",
   "mimetype": "text/x-python",
   "name": "python",
   "nbconvert_exporter": "python",
   "pygments_lexer": "ipython3",
   "version": "3.5.1"
  }
 },
 "nbformat": 4,
 "nbformat_minor": 0
}
