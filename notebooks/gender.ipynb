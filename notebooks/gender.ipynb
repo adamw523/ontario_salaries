{
 "cells": [
  {
   "cell_type": "code",
   "execution_count": 264,
   "metadata": {
    "collapsed": false
   },
   "outputs": [],
   "source": [
    "import zipfile\n",
    "import pandas as pd\n",
    "import numpy as np\n",
    "from collections import defaultdict"
   ]
  },
  {
   "cell_type": "markdown",
   "metadata": {},
   "source": [
    "## Names dataset for assigning gender\n",
    "\n",
    "Top 100 US baby names with their gender since 1880\n",
    "\n",
    "https://www.ssa.gov/oact/babynames/limits.html"
   ]
  },
  {
   "cell_type": "code",
   "execution_count": 242,
   "metadata": {
    "collapsed": false
   },
   "outputs": [],
   "source": [
    "zf = zipfile.ZipFile('/data/names.zip')\n",
    "\n",
    "names = defaultdict(lambda: [0,0])\n",
    "\n",
    "for name in zf.namelist():\n",
    "    if name[-4:] == \".txt\":\n",
    "        f = zf.open(name)\n",
    "        for line in f.readlines():\n",
    "            elements = line.decode(\"utf-8\").split(\",\")\n",
    "            \n",
    "            current_counts = names[elements[0]]\n",
    "            \n",
    "            if elements[1] == 'M':\n",
    "                names[elements[0]] = [current_counts[0] + int(elements[2]), current_counts[1]]\n",
    "            else:\n",
    "                names[elements[0]] = [current_counts[0], current_counts[1] + int(elements[2])]\n",
    "                                    \n",
    "zf.close()"
   ]
  },
  {
   "cell_type": "code",
   "execution_count": 243,
   "metadata": {
    "collapsed": false
   },
   "outputs": [],
   "source": [
    "def m_or_f(name):\n",
    "    m = names[name][0]\n",
    "    f = names[name][1]\n",
    "    \n",
    "    if m > f:\n",
    "        return ['M', m / (m + f)]\n",
    "    elif f > m:\n",
    "        return ['F', f / (m + f)]\n",
    "    else:\n",
    "        return [None, 0]"
   ]
  },
  {
   "cell_type": "markdown",
   "metadata": {},
   "source": [
    "## Load salary data"
   ]
  },
  {
   "cell_type": "code",
   "execution_count": 346,
   "metadata": {
    "collapsed": false
   },
   "outputs": [
    {
     "name": "stdout",
     "output_type": "stream",
     "text": [
      "Matched 97634 names out of 115431 entries\n"
     ]
    }
   ],
   "source": [
    "salaries = pd.read_csv('/data/2015-combined-salary-seconded-en.csv')\n",
    "\n",
    "salaries['Salary Paid'] = salaries['Salary Paid']\n",
    "salaries['gender'] = salaries['First name'].apply( lambda x: m_or_f(x)[0] )\n",
    "print(\"Matched\", len(salaries) - len(salaries[ salaries['gender'].isnull() ]), \"names out of\", len(salaries), \"entries\")"
   ]
  },
  {
   "cell_type": "code",
   "execution_count": 347,
   "metadata": {
    "collapsed": false
   },
   "outputs": [
    {
     "data": {
      "text/plain": [
       "0         $106,143.80\n",
       "4         $192,375.37\n",
       "5         $124,071.75\n",
       "7         $121,582.50\n",
       "9         $149,525.23\n",
       "14        $104,120.49\n",
       "15        $101,276.76\n",
       "17        $114,006.48\n",
       "18        $106,943.00\n",
       "19        $123,303.70\n",
       "20        $106,848.00\n",
       "24        $123,872.04\n",
       "30        $103,933.18\n",
       "31        $120,511.43\n",
       "39        $105,820.17\n",
       "42        $108,038.74\n",
       "44        $118,262.35\n",
       "46        $107,648.98\n",
       "47        $131,000.22\n",
       "48        $153,827.65\n",
       "50        $111,431.43\n",
       "51        $104,856.02\n",
       "52        $114,258.06\n",
       "53        $108,172.97\n",
       "54        $109,424.15\n",
       "55        $120,305.36\n",
       "56        $114,646.16\n",
       "58        $105,404.34\n",
       "59        $108,172.97\n",
       "60        $114,647.26\n",
       "             ...     \n",
       "115352    $143,648.45\n",
       "115353    $121,624.88\n",
       "115354    $102,547.73\n",
       "115355    $182,907.45\n",
       "115359    $125,192.07\n",
       "115360    $121,624.88\n",
       "115361    $123,031.00\n",
       "115362    $208,769.28\n",
       "115366    $108,125.55\n",
       "115368    $153,909.47\n",
       "115371    $100,346.14\n",
       "115372    $138,419.21\n",
       "115376    $111,717.13\n",
       "115379    $164,427.73\n",
       "115382    $113,484.48\n",
       "115386    $162,619.08\n",
       "115389    $123,034.26\n",
       "115392    $104,147.60\n",
       "115393    $163,585.22\n",
       "115394    $117,456.30\n",
       "115399    $116,333.88\n",
       "115401    $155,335.79\n",
       "115410    $133,751.02\n",
       "115415    $112,467.17\n",
       "115416    $126,731.18\n",
       "115425    $103,752.75\n",
       "115426    $134,822.31\n",
       "115427    $230,486.74\n",
       "115429    $315,870.76\n",
       "115430    $102,417.14\n",
       "Name: Salary Paid, dtype: object"
      ]
     },
     "execution_count": 347,
     "metadata": {},
     "output_type": "execute_result"
    }
   ],
   "source": [
    "salaries[salaries['gender'] == 'M']['Salary Paid']"
   ]
  },
  {
   "cell_type": "code",
   "execution_count": null,
   "metadata": {
    "collapsed": true
   },
   "outputs": [],
   "source": []
  },
  {
   "cell_type": "code",
   "execution_count": null,
   "metadata": {
    "collapsed": true
   },
   "outputs": [],
   "source": []
  },
  {
   "cell_type": "code",
   "execution_count": null,
   "metadata": {
    "collapsed": true
   },
   "outputs": [],
   "source": []
  },
  {
   "cell_type": "code",
   "execution_count": null,
   "metadata": {
    "collapsed": true
   },
   "outputs": [],
   "source": []
  },
  {
   "cell_type": "code",
   "execution_count": null,
   "metadata": {
    "collapsed": true
   },
   "outputs": [],
   "source": []
  },
  {
   "cell_type": "code",
   "execution_count": null,
   "metadata": {
    "collapsed": true
   },
   "outputs": [],
   "source": []
  },
  {
   "cell_type": "code",
   "execution_count": null,
   "metadata": {
    "collapsed": true
   },
   "outputs": [],
   "source": []
  },
  {
   "cell_type": "code",
   "execution_count": null,
   "metadata": {
    "collapsed": true
   },
   "outputs": [],
   "source": []
  },
  {
   "cell_type": "code",
   "execution_count": null,
   "metadata": {
    "collapsed": true
   },
   "outputs": [],
   "source": []
  },
  {
   "cell_type": "code",
   "execution_count": null,
   "metadata": {
    "collapsed": true
   },
   "outputs": [],
   "source": []
  },
  {
   "cell_type": "code",
   "execution_count": null,
   "metadata": {
    "collapsed": true
   },
   "outputs": [],
   "source": []
  },
  {
   "cell_type": "code",
   "execution_count": null,
   "metadata": {
    "collapsed": true
   },
   "outputs": [],
   "source": []
  },
  {
   "cell_type": "code",
   "execution_count": null,
   "metadata": {
    "collapsed": false
   },
   "outputs": [],
   "source": []
  },
  {
   "cell_type": "code",
   "execution_count": null,
   "metadata": {
    "collapsed": true
   },
   "outputs": [],
   "source": []
  }
 ],
 "metadata": {
  "kernelspec": {
   "display_name": "Python 3",
   "language": "python",
   "name": "python3"
  },
  "language_info": {
   "codemirror_mode": {
    "name": "ipython",
    "version": 3
   },
   "file_extension": ".py",
   "mimetype": "text/x-python",
   "name": "python",
   "nbconvert_exporter": "python",
   "pygments_lexer": "ipython3",
   "version": "3.5.1"
  }
 },
 "nbformat": 4,
 "nbformat_minor": 0
}
