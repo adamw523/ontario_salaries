{
 "cells": [
  {
   "cell_type": "code",
   "execution_count": 52,
   "metadata": {
    "collapsed": false
   },
   "outputs": [],
   "source": [
    "import zipfile\n",
    "import numpy as np\n",
    "import pandas as pd\n",
    "import re\n",
    "\n",
    "from collections import defaultdict"
   ]
  },
  {
   "cell_type": "markdown",
   "metadata": {},
   "source": [
    "## Names dataset for assigning gender\n",
    "\n",
    "Top 1000 US baby names with their gender since 1880\n",
    "\n",
    "https://www.ssa.gov/oact/babynames/limits.html"
   ]
  },
  {
   "cell_type": "code",
   "execution_count": 3,
   "metadata": {
    "collapsed": false
   },
   "outputs": [],
   "source": [
    "zf = zipfile.ZipFile('/data/names.zip')\n",
    "\n",
    "names = defaultdict(lambda: [0,0])\n",
    "\n",
    "for name in zf.namelist():\n",
    "    if name[-4:] == \".txt\":\n",
    "        f = zf.open(name)\n",
    "        for line in f.readlines():\n",
    "            elements = line.decode(\"utf-8\").split(\",\")\n",
    "            \n",
    "            current_counts = names[elements[0]]\n",
    "            \n",
    "            if elements[1] == 'M':\n",
    "                names[elements[0]] = [current_counts[0] + int(elements[2]), current_counts[1]]\n",
    "            else:\n",
    "                names[elements[0]] = [current_counts[0], current_counts[1] + int(elements[2])]\n",
    "                                    \n",
    "zf.close()"
   ]
  },
  {
   "cell_type": "code",
   "execution_count": 99,
   "metadata": {
    "collapsed": false
   },
   "outputs": [],
   "source": [
    "def m_or_f(name):\n",
    "    re_split = r'[\\ -]'\n",
    "    m, f = [\n",
    "        np.average([names[name][loc] for name in re.split(r'[\\ -]', name)])\n",
    "        for loc in [0,1]\n",
    "    ]\n",
    "    \n",
    "    if m > f:\n",
    "        return ['M', m / (m + f)]\n",
    "    elif f > m:\n",
    "        return ['F', f / (m + f)]\n",
    "    else:\n",
    "        return [None, 0]"
   ]
  },
  {
   "cell_type": "markdown",
   "metadata": {},
   "source": [
    "## Load salary data"
   ]
  },
  {
   "cell_type": "code",
   "execution_count": 105,
   "metadata": {
    "collapsed": false
   },
   "outputs": [
    {
     "name": "stdout",
     "output_type": "stream",
     "text": [
      "Matched 110388 names out of 115431 entries\n"
     ]
    }
   ],
   "source": [
    "salaries = pd.read_csv('/data/2015-combined-salary-seconded-en.csv')\n",
    "\n",
    "salaries['Salary Paid'] = salaries['Salary Paid'].apply(lambda x: float(re.sub(r'[\\$,]', '', x)))\n",
    "salaries['gender'] = salaries['First name'].apply( lambda x: m_or_f(x)[0] )\n",
    "\n",
    "\n",
    "print(\"Matched\", len(salaries) - len(salaries[ salaries['gender'].isnull() ]), \"names out of\", len(salaries), \"entries\")"
   ]
  },
  {
   "cell_type": "code",
   "execution_count": 106,
   "metadata": {
    "collapsed": false
   },
   "outputs": [
    {
     "data": {
      "text/html": [
       "<div>\n",
       "<table border=\"1\" class=\"dataframe\">\n",
       "  <thead>\n",
       "    <tr style=\"text-align: right;\">\n",
       "      <th></th>\n",
       "      <th>Sector</th>\n",
       "      <th>Last name</th>\n",
       "      <th>First name</th>\n",
       "      <th>Salary Paid</th>\n",
       "      <th>Taxable Benefits</th>\n",
       "      <th>Employer</th>\n",
       "      <th>Job title</th>\n",
       "      <th>Calendar Year</th>\n",
       "      <th>gender</th>\n",
       "    </tr>\n",
       "  </thead>\n",
       "  <tbody>\n",
       "    <tr>\n",
       "      <th>0</th>\n",
       "      <td>Government of Ontario - Ministries</td>\n",
       "      <td>Aniol</td>\n",
       "      <td>Richard</td>\n",
       "      <td>106143.8</td>\n",
       "      <td>$177.35</td>\n",
       "      <td>Aboriginal Affairs</td>\n",
       "      <td>Senior Negotiator / Négociateur principal</td>\n",
       "      <td>2015</td>\n",
       "      <td>M</td>\n",
       "    </tr>\n",
       "  </tbody>\n",
       "</table>\n",
       "</div>"
      ],
      "text/plain": [
       "                               Sector Last name First name  Salary Paid  \\\n",
       "0  Government of Ontario - Ministries     Aniol    Richard     106143.8   \n",
       "\n",
       "  Taxable Benefits            Employer  \\\n",
       "0          $177.35  Aboriginal Affairs   \n",
       "\n",
       "                                   Job title  Calendar Year gender  \n",
       "0  Senior Negotiator / Négociateur principal           2015      M  "
      ]
     },
     "execution_count": 106,
     "metadata": {},
     "output_type": "execute_result"
    }
   ],
   "source": [
    "salaries.head(1)"
   ]
  },
  {
   "cell_type": "code",
   "execution_count": 107,
   "metadata": {
    "collapsed": false
   },
   "outputs": [
    {
     "data": {
      "text/plain": [
       "gender\n",
       "F    123639.206867\n",
       "M    129158.439588\n",
       "Name: Salary Paid, dtype: float64"
      ]
     },
     "execution_count": 107,
     "metadata": {},
     "output_type": "execute_result"
    }
   ],
   "source": [
    "salaries.groupby(by='gender')['Salary Paid'].mean()"
   ]
  },
  {
   "cell_type": "code",
   "execution_count": 108,
   "metadata": {
    "collapsed": false,
    "scrolled": false
   },
   "outputs": [
    {
     "data": {
      "text/plain": [
       "Sector                                                  gender\n",
       "Colleges                                                F         113483.243822\n",
       "                                                        M         113424.158068\n",
       "Crown Agencies                                          F         133738.329018\n",
       "                                                        M         136596.097323\n",
       "Government of Ontario - Judiciary                       F         188860.401954\n",
       "                                                        M         207865.903164\n",
       "Government of Ontario - Legislative Assembly & Offices  F         132952.340556\n",
       "                                                        M         136534.997442\n",
       "Government of Ontario - Ministries                      F         126456.921790\n",
       "                                                        M         123681.395110\n",
       "Hospitals & Boards of Public Health                     F         122169.697159\n",
       "                                                        M         148089.663957\n",
       "Municipalities & Services                               F         118083.064644\n",
       "                                                        M         119186.192592\n",
       "Ontario Power Generation                                F         131757.753402\n",
       "                                                        M         142485.834662\n",
       "Other Public Sector Employers                           F         127708.508234\n",
       "                                                        M         140126.273480\n",
       "School Boards                                           F         112812.168479\n",
       "                                                        M         114195.710656\n",
       "Seconded (Children & Youth Services)*                   F         107269.360000\n",
       "                                                        M         124454.080000\n",
       "Seconded (Community & Social Services)*                 M         131395.660000\n",
       "Seconded (Community Safety & Correctional Services)*    F         111062.116667\n",
       "                                                        M         112237.136538\n",
       "Seconded (Education)*                                   F         128422.434103\n",
       "                                                        M         132891.456250\n",
       "Seconded (Energy)*                                      F         100297.250000\n",
       "                                                        M         119287.530000\n",
       "Seconded (Health & Long–Term Care)*                     F         127506.040000\n",
       "                                                        M         273178.750000\n",
       "Seconded (Labour)*                                      M         102417.140000\n",
       "Universities                                            F         139647.731969\n",
       "                                                        M         152324.139833\n",
       "Name: Salary Paid, dtype: float64"
      ]
     },
     "execution_count": 108,
     "metadata": {},
     "output_type": "execute_result"
    }
   ],
   "source": [
    "salaries.groupby(by=['Sector', 'gender'])['Salary Paid'].mean()"
   ]
  },
  {
   "cell_type": "code",
   "execution_count": null,
   "metadata": {
    "collapsed": true
   },
   "outputs": [],
   "source": []
  },
  {
   "cell_type": "code",
   "execution_count": null,
   "metadata": {
    "collapsed": true
   },
   "outputs": [],
   "source": []
  },
  {
   "cell_type": "code",
   "execution_count": null,
   "metadata": {
    "collapsed": true
   },
   "outputs": [],
   "source": []
  },
  {
   "cell_type": "code",
   "execution_count": null,
   "metadata": {
    "collapsed": true
   },
   "outputs": [],
   "source": []
  },
  {
   "cell_type": "code",
   "execution_count": null,
   "metadata": {
    "collapsed": true
   },
   "outputs": [],
   "source": []
  },
  {
   "cell_type": "code",
   "execution_count": null,
   "metadata": {
    "collapsed": true
   },
   "outputs": [],
   "source": []
  },
  {
   "cell_type": "code",
   "execution_count": null,
   "metadata": {
    "collapsed": true
   },
   "outputs": [],
   "source": []
  },
  {
   "cell_type": "code",
   "execution_count": null,
   "metadata": {
    "collapsed": true
   },
   "outputs": [],
   "source": []
  },
  {
   "cell_type": "code",
   "execution_count": null,
   "metadata": {
    "collapsed": true
   },
   "outputs": [],
   "source": []
  },
  {
   "cell_type": "code",
   "execution_count": null,
   "metadata": {
    "collapsed": true
   },
   "outputs": [],
   "source": []
  },
  {
   "cell_type": "code",
   "execution_count": null,
   "metadata": {
    "collapsed": false
   },
   "outputs": [],
   "source": []
  },
  {
   "cell_type": "code",
   "execution_count": null,
   "metadata": {
    "collapsed": true
   },
   "outputs": [],
   "source": []
  }
 ],
 "metadata": {
  "kernelspec": {
   "display_name": "Python 3",
   "language": "python",
   "name": "python3"
  },
  "language_info": {
   "codemirror_mode": {
    "name": "ipython",
    "version": 3
   },
   "file_extension": ".py",
   "mimetype": "text/x-python",
   "name": "python",
   "nbconvert_exporter": "python",
   "pygments_lexer": "ipython3",
   "version": "3.5.1"
  }
 },
 "nbformat": 4,
 "nbformat_minor": 0
}
