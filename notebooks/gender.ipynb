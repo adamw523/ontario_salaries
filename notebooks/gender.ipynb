{
 "cells": [
  {
   "cell_type": "code",
   "execution_count": 136,
   "metadata": {
    "collapsed": false
   },
   "outputs": [
    {
     "data": {
      "text/html": [
       "\n",
       "    <div class=\"bk-banner\">\n",
       "        <a href=\"http://bokeh.pydata.org\" target=\"_blank\" class=\"bk-logo bk-logo-small bk-logo-notebook\"></a>\n",
       "        <span id=\"92e2c069-61b0-4975-bc75-2ba5644724c3\">Loading BokehJS ...</span>\n",
       "    </div>"
      ]
     },
     "metadata": {},
     "output_type": "display_data"
    },
    {
     "data": {
      "application/javascript": [
       "\n",
       "(function(global) {\n",
       "  function now() {\n",
       "    return new Date();\n",
       "  }\n",
       "\n",
       "  if (typeof (window._bokeh_onload_callbacks) === \"undefined\") {\n",
       "    window._bokeh_onload_callbacks = [];\n",
       "  }\n",
       "\n",
       "  function run_callbacks() {\n",
       "    window._bokeh_onload_callbacks.forEach(function(callback) { callback() });\n",
       "    delete window._bokeh_onload_callbacks\n",
       "    console.info(\"Bokeh: all callbacks have finished\");\n",
       "  }\n",
       "\n",
       "  function load_libs(js_urls, callback) {\n",
       "    window._bokeh_onload_callbacks.push(callback);\n",
       "    if (window._bokeh_is_loading > 0) {\n",
       "      console.log(\"Bokeh: BokehJS is being loaded, scheduling callback at\", now());\n",
       "      return null;\n",
       "    }\n",
       "    if (js_urls == null || js_urls.length === 0) {\n",
       "      run_callbacks();\n",
       "      return null;\n",
       "    }\n",
       "    console.log(\"Bokeh: BokehJS not loaded, scheduling load and callback at\", now());\n",
       "    window._bokeh_is_loading = js_urls.length;\n",
       "    for (var i = 0; i < js_urls.length; i++) {\n",
       "      var url = js_urls[i];\n",
       "      var s = document.createElement('script');\n",
       "      s.src = url;\n",
       "      s.async = false;\n",
       "      s.onreadystatechange = s.onload = function() {\n",
       "        window._bokeh_is_loading--;\n",
       "        if (window._bokeh_is_loading === 0) {\n",
       "          console.log(\"Bokeh: all BokehJS libraries loaded\");\n",
       "          run_callbacks()\n",
       "        }\n",
       "      };\n",
       "      s.onerror = function() {\n",
       "        console.warn(\"failed to load library \" + url);\n",
       "      };\n",
       "      console.log(\"Bokeh: injecting script tag for BokehJS library: \", url);\n",
       "      document.getElementsByTagName(\"head\")[0].appendChild(s);\n",
       "    }\n",
       "  };\n",
       "\n",
       "  var js_urls = ['https://cdn.pydata.org/bokeh/release/bokeh-0.11.1.min.js', 'https://cdn.pydata.org/bokeh/release/bokeh-widgets-0.11.1.min.js', 'https://cdn.pydata.org/bokeh/release/bokeh-compiler-0.11.1.min.js'];\n",
       "\n",
       "  var inline_js = [\n",
       "    function(Bokeh) {\n",
       "      Bokeh.set_log_level(\"info\");\n",
       "    },\n",
       "    \n",
       "    function(Bokeh) {\n",
       "      Bokeh.$(\"#92e2c069-61b0-4975-bc75-2ba5644724c3\").text(\"BokehJS successfully loaded\");\n",
       "    },\n",
       "    function(Bokeh) {\n",
       "      console.log(\"Bokeh: injecting CSS: https://cdn.pydata.org/bokeh/release/bokeh-0.11.1.min.css\");\n",
       "      Bokeh.embed.inject_css(\"https://cdn.pydata.org/bokeh/release/bokeh-0.11.1.min.css\");\n",
       "      console.log(\"Bokeh: injecting CSS: https://cdn.pydata.org/bokeh/release/bokeh-widgets-0.11.1.min.css\");\n",
       "      Bokeh.embed.inject_css(\"https://cdn.pydata.org/bokeh/release/bokeh-widgets-0.11.1.min.css\");\n",
       "    }\n",
       "  ];\n",
       "\n",
       "  function run_inline_js() {\n",
       "    for (var i = 0; i < inline_js.length; i++) {\n",
       "      inline_js[i](window.Bokeh);\n",
       "    }\n",
       "  }\n",
       "\n",
       "  if (window._bokeh_is_loading === 0) {\n",
       "    console.log(\"Bokeh: BokehJS loaded, going straight to plotting\");\n",
       "    run_inline_js();\n",
       "  } else {\n",
       "    load_libs(js_urls, function() {\n",
       "      console.log(\"Bokeh: BokehJS plotting callback run at\", now());\n",
       "      run_inline_js();\n",
       "    });\n",
       "  }\n",
       "}(this));"
      ]
     },
     "metadata": {},
     "output_type": "display_data"
    }
   ],
   "source": [
    "import zipfile\n",
    "import numpy as np\n",
    "import pandas as pd\n",
    "import re\n",
    "\n",
    "from collections import defaultdict\n",
    "\n",
    "bokeh.io.output_notebook()"
   ]
  },
  {
   "cell_type": "markdown",
   "metadata": {},
   "source": [
    "## Names dataset for assigning gender\n",
    "\n",
    "Top 1000 US baby names with their gender since 1880\n",
    "\n",
    "https://www.ssa.gov/oact/babynames/limits.html"
   ]
  },
  {
   "cell_type": "code",
   "execution_count": 3,
   "metadata": {
    "collapsed": false
   },
   "outputs": [],
   "source": [
    "zf = zipfile.ZipFile('/data/names.zip')\n",
    "\n",
    "names = defaultdict(lambda: [0,0])\n",
    "\n",
    "for name in zf.namelist():\n",
    "    if name[-4:] == \".txt\":\n",
    "        f = zf.open(name)\n",
    "        for line in f.readlines():\n",
    "            elements = line.decode(\"utf-8\").split(\",\")\n",
    "            \n",
    "            current_counts = names[elements[0]]\n",
    "            \n",
    "            if elements[1] == 'M':\n",
    "                names[elements[0]] = [current_counts[0] + int(elements[2]), current_counts[1]]\n",
    "            else:\n",
    "                names[elements[0]] = [current_counts[0], current_counts[1] + int(elements[2])]\n",
    "                                    \n",
    "zf.close()"
   ]
  },
  {
   "cell_type": "code",
   "execution_count": 99,
   "metadata": {
    "collapsed": false
   },
   "outputs": [],
   "source": [
    "def m_or_f(name):\n",
    "    re_split = r'[\\ -]'\n",
    "    m, f = [\n",
    "        np.average([names[name][loc] for name in re.split(r'[\\ -]', name)])\n",
    "        for loc in [0,1]\n",
    "    ]\n",
    "    \n",
    "    if m > f:\n",
    "        return ['M', m / (m + f)]\n",
    "    elif f > m:\n",
    "        return ['F', f / (m + f)]\n",
    "    else:\n",
    "        return [None, 0]"
   ]
  },
  {
   "cell_type": "markdown",
   "metadata": {},
   "source": [
    "## Load salary data"
   ]
  },
  {
   "cell_type": "code",
   "execution_count": 105,
   "metadata": {
    "collapsed": false
   },
   "outputs": [
    {
     "name": "stdout",
     "output_type": "stream",
     "text": [
      "Matched 110388 names out of 115431 entries\n"
     ]
    }
   ],
   "source": [
    "salaries = pd.read_csv('/data/2015-combined-salary-seconded-en.csv')\n",
    "\n",
    "salaries['Salary Paid'] = salaries['Salary Paid'].apply(lambda x: float(re.sub(r'[\\$,]', '', x)))\n",
    "salaries['gender'] = salaries['First name'].apply( lambda x: m_or_f(x)[0] )\n",
    "\n",
    "\n",
    "print(\"Matched\", len(salaries) - len(salaries[ salaries['gender'].isnull() ]), \"names out of\", len(salaries), \"entries\")"
   ]
  },
  {
   "cell_type": "code",
   "execution_count": 106,
   "metadata": {
    "collapsed": false
   },
   "outputs": [
    {
     "data": {
      "text/html": [
       "<div>\n",
       "<table border=\"1\" class=\"dataframe\">\n",
       "  <thead>\n",
       "    <tr style=\"text-align: right;\">\n",
       "      <th></th>\n",
       "      <th>Sector</th>\n",
       "      <th>Last name</th>\n",
       "      <th>First name</th>\n",
       "      <th>Salary Paid</th>\n",
       "      <th>Taxable Benefits</th>\n",
       "      <th>Employer</th>\n",
       "      <th>Job title</th>\n",
       "      <th>Calendar Year</th>\n",
       "      <th>gender</th>\n",
       "    </tr>\n",
       "  </thead>\n",
       "  <tbody>\n",
       "    <tr>\n",
       "      <th>0</th>\n",
       "      <td>Government of Ontario - Ministries</td>\n",
       "      <td>Aniol</td>\n",
       "      <td>Richard</td>\n",
       "      <td>106143.8</td>\n",
       "      <td>$177.35</td>\n",
       "      <td>Aboriginal Affairs</td>\n",
       "      <td>Senior Negotiator / Négociateur principal</td>\n",
       "      <td>2015</td>\n",
       "      <td>M</td>\n",
       "    </tr>\n",
       "  </tbody>\n",
       "</table>\n",
       "</div>"
      ],
      "text/plain": [
       "                               Sector Last name First name  Salary Paid  \\\n",
       "0  Government of Ontario - Ministries     Aniol    Richard     106143.8   \n",
       "\n",
       "  Taxable Benefits            Employer  \\\n",
       "0          $177.35  Aboriginal Affairs   \n",
       "\n",
       "                                   Job title  Calendar Year gender  \n",
       "0  Senior Negotiator / Négociateur principal           2015      M  "
      ]
     },
     "execution_count": 106,
     "metadata": {},
     "output_type": "execute_result"
    }
   ],
   "source": [
    "salaries.head(1)"
   ]
  },
  {
   "cell_type": "code",
   "execution_count": 107,
   "metadata": {
    "collapsed": false
   },
   "outputs": [
    {
     "data": {
      "text/plain": [
       "gender\n",
       "F    123639.206867\n",
       "M    129158.439588\n",
       "Name: Salary Paid, dtype: float64"
      ]
     },
     "execution_count": 107,
     "metadata": {},
     "output_type": "execute_result"
    }
   ],
   "source": [
    "salaries.groupby(by='gender')['Salary Paid'].mean()"
   ]
  },
  {
   "cell_type": "code",
   "execution_count": 117,
   "metadata": {
    "collapsed": false,
    "scrolled": false
   },
   "outputs": [],
   "source": [
    "sector_grouped = salaries.groupby(by=['Sector', 'gender'])['Salary Paid'].mean()"
   ]
  },
  {
   "cell_type": "code",
   "execution_count": 138,
   "metadata": {
    "collapsed": false
   },
   "outputs": [
    {
     "data": {
      "text/plain": [
       "Sector                             gender\n",
       "Colleges                           F         113483.243822\n",
       "                                   M         113424.158068\n",
       "Crown Agencies                     F         133738.329018\n",
       "                                   M         136596.097323\n",
       "Government of Ontario - Judiciary  F         188860.401954\n",
       "Name: Salary Paid, dtype: float64"
      ]
     },
     "execution_count": 138,
     "metadata": {},
     "output_type": "execute_result"
    }
   ],
   "source": [
    "sector_grouped.head()"
   ]
  },
  {
   "cell_type": "code",
   "execution_count": 140,
   "metadata": {
    "collapsed": false
   },
   "outputs": [
    {
     "data": {
      "text/html": [
       "<div>\n",
       "<table border=\"1\" class=\"dataframe\">\n",
       "  <thead>\n",
       "    <tr style=\"text-align: right;\">\n",
       "      <th>gender</th>\n",
       "      <th>F</th>\n",
       "      <th>M</th>\n",
       "    </tr>\n",
       "    <tr>\n",
       "      <th>Sector</th>\n",
       "      <th></th>\n",
       "      <th></th>\n",
       "    </tr>\n",
       "  </thead>\n",
       "  <tbody>\n",
       "    <tr>\n",
       "      <th>Colleges</th>\n",
       "      <td>113483.243822</td>\n",
       "      <td>113424.158068</td>\n",
       "    </tr>\n",
       "    <tr>\n",
       "      <th>Crown Agencies</th>\n",
       "      <td>133738.329018</td>\n",
       "      <td>136596.097323</td>\n",
       "    </tr>\n",
       "    <tr>\n",
       "      <th>Government of Ontario - Judiciary</th>\n",
       "      <td>188860.401954</td>\n",
       "      <td>207865.903164</td>\n",
       "    </tr>\n",
       "    <tr>\n",
       "      <th>Government of Ontario - Legislative Assembly &amp; Offices</th>\n",
       "      <td>132952.340556</td>\n",
       "      <td>136534.997442</td>\n",
       "    </tr>\n",
       "    <tr>\n",
       "      <th>Government of Ontario - Ministries</th>\n",
       "      <td>126456.921790</td>\n",
       "      <td>123681.395110</td>\n",
       "    </tr>\n",
       "    <tr>\n",
       "      <th>Hospitals &amp; Boards of Public Health</th>\n",
       "      <td>122169.697159</td>\n",
       "      <td>148089.663957</td>\n",
       "    </tr>\n",
       "    <tr>\n",
       "      <th>Municipalities &amp; Services</th>\n",
       "      <td>118083.064644</td>\n",
       "      <td>119186.192592</td>\n",
       "    </tr>\n",
       "    <tr>\n",
       "      <th>Ontario Power Generation</th>\n",
       "      <td>131757.753402</td>\n",
       "      <td>142485.834662</td>\n",
       "    </tr>\n",
       "    <tr>\n",
       "      <th>Other Public Sector Employers</th>\n",
       "      <td>127708.508234</td>\n",
       "      <td>140126.273480</td>\n",
       "    </tr>\n",
       "    <tr>\n",
       "      <th>School Boards</th>\n",
       "      <td>112812.168479</td>\n",
       "      <td>114195.710656</td>\n",
       "    </tr>\n",
       "    <tr>\n",
       "      <th>Seconded (Children &amp; Youth Services)*</th>\n",
       "      <td>107269.360000</td>\n",
       "      <td>124454.080000</td>\n",
       "    </tr>\n",
       "    <tr>\n",
       "      <th>Seconded (Community &amp; Social Services)*</th>\n",
       "      <td>NaN</td>\n",
       "      <td>131395.660000</td>\n",
       "    </tr>\n",
       "    <tr>\n",
       "      <th>Seconded (Community Safety &amp; Correctional Services)*</th>\n",
       "      <td>111062.116667</td>\n",
       "      <td>112237.136538</td>\n",
       "    </tr>\n",
       "    <tr>\n",
       "      <th>Seconded (Education)*</th>\n",
       "      <td>128422.434103</td>\n",
       "      <td>132891.456250</td>\n",
       "    </tr>\n",
       "    <tr>\n",
       "      <th>Seconded (Energy)*</th>\n",
       "      <td>100297.250000</td>\n",
       "      <td>119287.530000</td>\n",
       "    </tr>\n",
       "    <tr>\n",
       "      <th>Seconded (Health &amp; Long–Term Care)*</th>\n",
       "      <td>127506.040000</td>\n",
       "      <td>273178.750000</td>\n",
       "    </tr>\n",
       "    <tr>\n",
       "      <th>Seconded (Labour)*</th>\n",
       "      <td>NaN</td>\n",
       "      <td>102417.140000</td>\n",
       "    </tr>\n",
       "    <tr>\n",
       "      <th>Universities</th>\n",
       "      <td>139647.731969</td>\n",
       "      <td>152324.139833</td>\n",
       "    </tr>\n",
       "  </tbody>\n",
       "</table>\n",
       "</div>"
      ],
      "text/plain": [
       "gender                                                          F  \\\n",
       "Sector                                                              \n",
       "Colleges                                            113483.243822   \n",
       "Crown Agencies                                      133738.329018   \n",
       "Government of Ontario - Judiciary                   188860.401954   \n",
       "Government of Ontario - Legislative Assembly & ...  132952.340556   \n",
       "Government of Ontario - Ministries                  126456.921790   \n",
       "Hospitals & Boards of Public Health                 122169.697159   \n",
       "Municipalities & Services                           118083.064644   \n",
       "Ontario Power Generation                            131757.753402   \n",
       "Other Public Sector Employers                       127708.508234   \n",
       "School Boards                                       112812.168479   \n",
       "Seconded (Children & Youth Services)*               107269.360000   \n",
       "Seconded (Community & Social Services)*                       NaN   \n",
       "Seconded (Community Safety & Correctional Servi...  111062.116667   \n",
       "Seconded (Education)*                               128422.434103   \n",
       "Seconded (Energy)*                                  100297.250000   \n",
       "Seconded (Health & Long–Term Care)*                 127506.040000   \n",
       "Seconded (Labour)*                                            NaN   \n",
       "Universities                                        139647.731969   \n",
       "\n",
       "gender                                                          M  \n",
       "Sector                                                             \n",
       "Colleges                                            113424.158068  \n",
       "Crown Agencies                                      136596.097323  \n",
       "Government of Ontario - Judiciary                   207865.903164  \n",
       "Government of Ontario - Legislative Assembly & ...  136534.997442  \n",
       "Government of Ontario - Ministries                  123681.395110  \n",
       "Hospitals & Boards of Public Health                 148089.663957  \n",
       "Municipalities & Services                           119186.192592  \n",
       "Ontario Power Generation                            142485.834662  \n",
       "Other Public Sector Employers                       140126.273480  \n",
       "School Boards                                       114195.710656  \n",
       "Seconded (Children & Youth Services)*               124454.080000  \n",
       "Seconded (Community & Social Services)*             131395.660000  \n",
       "Seconded (Community Safety & Correctional Servi...  112237.136538  \n",
       "Seconded (Education)*                               132891.456250  \n",
       "Seconded (Energy)*                                  119287.530000  \n",
       "Seconded (Health & Long–Term Care)*                 273178.750000  \n",
       "Seconded (Labour)*                                  102417.140000  \n",
       "Universities                                        152324.139833  "
      ]
     },
     "execution_count": 140,
     "metadata": {},
     "output_type": "execute_result"
    }
   ],
   "source": [
    "sector_grouped.unstack()\n",
    "\n"
   ]
  },
  {
   "cell_type": "code",
   "execution_count": 141,
   "metadata": {
    "collapsed": false
   },
   "outputs": [
    {
     "data": {
      "text/html": [
       "\n",
       "\n",
       "    <div class=\"plotdiv\" id=\"8c0ff97f-5451-4c88-861e-c07b840614aa\"></div>\n",
       "<script type=\"text/javascript\">\n",
       "  \n",
       "  (function(global) {\n",
       "    function now() {\n",
       "      return new Date();\n",
       "    }\n",
       "  \n",
       "    if (typeof (window._bokeh_onload_callbacks) === \"undefined\") {\n",
       "      window._bokeh_onload_callbacks = [];\n",
       "    }\n",
       "  \n",
       "    function run_callbacks() {\n",
       "      window._bokeh_onload_callbacks.forEach(function(callback) { callback() });\n",
       "      delete window._bokeh_onload_callbacks\n",
       "      console.info(\"Bokeh: all callbacks have finished\");\n",
       "    }\n",
       "  \n",
       "    function load_libs(js_urls, callback) {\n",
       "      window._bokeh_onload_callbacks.push(callback);\n",
       "      if (window._bokeh_is_loading > 0) {\n",
       "        console.log(\"Bokeh: BokehJS is being loaded, scheduling callback at\", now());\n",
       "        return null;\n",
       "      }\n",
       "      if (js_urls == null || js_urls.length === 0) {\n",
       "        run_callbacks();\n",
       "        return null;\n",
       "      }\n",
       "      console.log(\"Bokeh: BokehJS not loaded, scheduling load and callback at\", now());\n",
       "      window._bokeh_is_loading = js_urls.length;\n",
       "      for (var i = 0; i < js_urls.length; i++) {\n",
       "        var url = js_urls[i];\n",
       "        var s = document.createElement('script');\n",
       "        s.src = url;\n",
       "        s.async = false;\n",
       "        s.onreadystatechange = s.onload = function() {\n",
       "          window._bokeh_is_loading--;\n",
       "          if (window._bokeh_is_loading === 0) {\n",
       "            console.log(\"Bokeh: all BokehJS libraries loaded\");\n",
       "            run_callbacks()\n",
       "          }\n",
       "        };\n",
       "        s.onerror = function() {\n",
       "          console.warn(\"failed to load library \" + url);\n",
       "        };\n",
       "        console.log(\"Bokeh: injecting script tag for BokehJS library: \", url);\n",
       "        document.getElementsByTagName(\"head\")[0].appendChild(s);\n",
       "      }\n",
       "    };var element = document.getElementById(\"8c0ff97f-5451-4c88-861e-c07b840614aa\");\n",
       "    if (element == null) {\n",
       "      console.log(\"Bokeh: ERROR: autoload.js configured with elementid '8c0ff97f-5451-4c88-861e-c07b840614aa' but no matching script tag was found. \")\n",
       "      return false;\n",
       "    }\n",
       "  \n",
       "    var js_urls = [];\n",
       "  \n",
       "    var inline_js = [\n",
       "      function(Bokeh) {\n",
       "        Bokeh.$(function() {\n",
       "            var docs_json = {\"900c8fea-4946-4bf2-83c4-bb01526ea156\":{\"roots\":{\"references\":[{\"attributes\":{\"plot\":{\"id\":\"77bebbab-4aaf-498f-82c6-dbbb436afc6a\",\"subtype\":\"Figure\",\"type\":\"Plot\"}},\"id\":\"9a461298-a630-4887-aa5c-55266159a96d\",\"type\":\"PanTool\"},{\"attributes\":{\"plot\":{\"id\":\"77bebbab-4aaf-498f-82c6-dbbb436afc6a\",\"subtype\":\"Figure\",\"type\":\"Plot\"}},\"id\":\"14800657-e72f-4e35-bb44-ba6c28b9d6fc\",\"type\":\"ResetTool\"},{\"attributes\":{\"axis_label\":\"y\",\"formatter\":{\"id\":\"5baddc68-9da8-41da-b637-4a34635b46ef\",\"type\":\"BasicTickFormatter\"},\"plot\":{\"id\":\"77bebbab-4aaf-498f-82c6-dbbb436afc6a\",\"subtype\":\"Figure\",\"type\":\"Plot\"},\"ticker\":{\"id\":\"205cae2c-c76b-47ae-85f8-7580b8a2f3be\",\"type\":\"BasicTicker\"}},\"id\":\"873398ba-7ba5-44d2-9da5-688c7ff85843\",\"type\":\"LinearAxis\"},{\"attributes\":{},\"id\":\"205cae2c-c76b-47ae-85f8-7580b8a2f3be\",\"type\":\"BasicTicker\"},{\"attributes\":{\"data_source\":{\"id\":\"5714fa9e-ce37-4c85-99a7-640c51cd298c\",\"type\":\"ColumnDataSource\"},\"glyph\":{\"id\":\"a11af5bc-d312-4d6e-be22-7622dd5b0cad\",\"type\":\"Line\"},\"hover_glyph\":null,\"nonselection_glyph\":{\"id\":\"2f31f443-be85-4aaa-a2f8-d5b8828fba3b\",\"type\":\"Line\"},\"selection_glyph\":null},\"id\":\"b1dc0b89-3452-4bc8-954a-d79bdcf983dd\",\"type\":\"GlyphRenderer\"},{\"attributes\":{},\"id\":\"10c9dbbf-cff0-493b-b834-ae5a8af1a42f\",\"type\":\"ToolEvents\"},{\"attributes\":{\"plot\":{\"id\":\"77bebbab-4aaf-498f-82c6-dbbb436afc6a\",\"subtype\":\"Figure\",\"type\":\"Plot\"}},\"id\":\"5a7764e1-7a9f-43c1-b49a-ef1fde03b2dd\",\"type\":\"WheelZoomTool\"},{\"attributes\":{\"callback\":null},\"id\":\"7276322a-5290-43fd-bd12-aca17f9eaa9c\",\"type\":\"DataRange1d\"},{\"attributes\":{\"legends\":[[\"Temp.\",[{\"id\":\"b1dc0b89-3452-4bc8-954a-d79bdcf983dd\",\"type\":\"GlyphRenderer\"}]]],\"plot\":{\"id\":\"77bebbab-4aaf-498f-82c6-dbbb436afc6a\",\"subtype\":\"Figure\",\"type\":\"Plot\"}},\"id\":\"05216072-f10a-4b99-b7ea-4b166915d0db\",\"type\":\"Legend\"},{\"attributes\":{\"callback\":null},\"id\":\"03b05f82-cf1a-4c68-8c58-fdf916a28cf1\",\"type\":\"DataRange1d\"},{\"attributes\":{\"below\":[{\"id\":\"998b671b-59e1-4d5d-9639-82d0dcbb08f1\",\"type\":\"LinearAxis\"}],\"left\":[{\"id\":\"873398ba-7ba5-44d2-9da5-688c7ff85843\",\"type\":\"LinearAxis\"}],\"renderers\":[{\"id\":\"998b671b-59e1-4d5d-9639-82d0dcbb08f1\",\"type\":\"LinearAxis\"},{\"id\":\"e26ef053-962e-4caa-beea-07cee6c25e81\",\"type\":\"Grid\"},{\"id\":\"873398ba-7ba5-44d2-9da5-688c7ff85843\",\"type\":\"LinearAxis\"},{\"id\":\"105837fc-a8f2-43d6-aacd-824469709451\",\"type\":\"Grid\"},{\"id\":\"332e6581-f1ec-4b01-ac99-96f7512b67b0\",\"type\":\"BoxAnnotation\"},{\"id\":\"05216072-f10a-4b99-b7ea-4b166915d0db\",\"type\":\"Legend\"},{\"id\":\"b1dc0b89-3452-4bc8-954a-d79bdcf983dd\",\"type\":\"GlyphRenderer\"}],\"title\":\"simple line example\",\"tool_events\":{\"id\":\"10c9dbbf-cff0-493b-b834-ae5a8af1a42f\",\"type\":\"ToolEvents\"},\"tools\":[{\"id\":\"9a461298-a630-4887-aa5c-55266159a96d\",\"type\":\"PanTool\"},{\"id\":\"5a7764e1-7a9f-43c1-b49a-ef1fde03b2dd\",\"type\":\"WheelZoomTool\"},{\"id\":\"5fc89103-27d8-4ea4-aed6-d6be665af4f7\",\"type\":\"BoxZoomTool\"},{\"id\":\"49f0dff4-73fc-4c7f-ad92-cfadaf2dcfa4\",\"type\":\"PreviewSaveTool\"},{\"id\":\"885bd104-bfe6-42bb-a745-53ab59169e06\",\"type\":\"ResizeTool\"},{\"id\":\"14800657-e72f-4e35-bb44-ba6c28b9d6fc\",\"type\":\"ResetTool\"},{\"id\":\"f324b90a-d110-404c-bbd8-123a38b393cf\",\"type\":\"HelpTool\"}],\"x_range\":{\"id\":\"03b05f82-cf1a-4c68-8c58-fdf916a28cf1\",\"type\":\"DataRange1d\"},\"y_range\":{\"id\":\"7276322a-5290-43fd-bd12-aca17f9eaa9c\",\"type\":\"DataRange1d\"}},\"id\":\"77bebbab-4aaf-498f-82c6-dbbb436afc6a\",\"subtype\":\"Figure\",\"type\":\"Plot\"},{\"attributes\":{},\"id\":\"59e3018b-cd5a-4f3c-98a7-dc48ada3617c\",\"type\":\"BasicTicker\"},{\"attributes\":{\"bottom_units\":\"screen\",\"fill_alpha\":{\"value\":0.5},\"fill_color\":{\"value\":\"lightgrey\"},\"left_units\":\"screen\",\"level\":\"overlay\",\"line_alpha\":{\"value\":1.0},\"line_color\":{\"value\":\"black\"},\"line_dash\":[4,4],\"line_width\":{\"value\":2},\"plot\":null,\"render_mode\":\"css\",\"right_units\":\"screen\",\"top_units\":\"screen\"},\"id\":\"332e6581-f1ec-4b01-ac99-96f7512b67b0\",\"type\":\"BoxAnnotation\"},{\"attributes\":{\"line_color\":{\"value\":\"#1f77b4\"},\"line_width\":{\"value\":2},\"x\":{\"field\":\"x\"},\"y\":{\"field\":\"y\"}},\"id\":\"a11af5bc-d312-4d6e-be22-7622dd5b0cad\",\"type\":\"Line\"},{\"attributes\":{},\"id\":\"5baddc68-9da8-41da-b637-4a34635b46ef\",\"type\":\"BasicTickFormatter\"},{\"attributes\":{\"plot\":{\"id\":\"77bebbab-4aaf-498f-82c6-dbbb436afc6a\",\"subtype\":\"Figure\",\"type\":\"Plot\"},\"ticker\":{\"id\":\"59e3018b-cd5a-4f3c-98a7-dc48ada3617c\",\"type\":\"BasicTicker\"}},\"id\":\"e26ef053-962e-4caa-beea-07cee6c25e81\",\"type\":\"Grid\"},{\"attributes\":{\"plot\":{\"id\":\"77bebbab-4aaf-498f-82c6-dbbb436afc6a\",\"subtype\":\"Figure\",\"type\":\"Plot\"}},\"id\":\"49f0dff4-73fc-4c7f-ad92-cfadaf2dcfa4\",\"type\":\"PreviewSaveTool\"},{\"attributes\":{\"plot\":{\"id\":\"77bebbab-4aaf-498f-82c6-dbbb436afc6a\",\"subtype\":\"Figure\",\"type\":\"Plot\"}},\"id\":\"885bd104-bfe6-42bb-a745-53ab59169e06\",\"type\":\"ResizeTool\"},{\"attributes\":{},\"id\":\"cb849f02-d89c-489d-9459-ae5f6c961f56\",\"type\":\"BasicTickFormatter\"},{\"attributes\":{\"overlay\":{\"id\":\"332e6581-f1ec-4b01-ac99-96f7512b67b0\",\"type\":\"BoxAnnotation\"},\"plot\":{\"id\":\"77bebbab-4aaf-498f-82c6-dbbb436afc6a\",\"subtype\":\"Figure\",\"type\":\"Plot\"}},\"id\":\"5fc89103-27d8-4ea4-aed6-d6be665af4f7\",\"type\":\"BoxZoomTool\"},{\"attributes\":{\"line_alpha\":{\"value\":0.1},\"line_color\":{\"value\":\"#1f77b4\"},\"line_width\":{\"value\":2},\"x\":{\"field\":\"x\"},\"y\":{\"field\":\"y\"}},\"id\":\"2f31f443-be85-4aaa-a2f8-d5b8828fba3b\",\"type\":\"Line\"},{\"attributes\":{\"axis_label\":\"x\",\"formatter\":{\"id\":\"cb849f02-d89c-489d-9459-ae5f6c961f56\",\"type\":\"BasicTickFormatter\"},\"plot\":{\"id\":\"77bebbab-4aaf-498f-82c6-dbbb436afc6a\",\"subtype\":\"Figure\",\"type\":\"Plot\"},\"ticker\":{\"id\":\"59e3018b-cd5a-4f3c-98a7-dc48ada3617c\",\"type\":\"BasicTicker\"}},\"id\":\"998b671b-59e1-4d5d-9639-82d0dcbb08f1\",\"type\":\"LinearAxis\"},{\"attributes\":{\"plot\":{\"id\":\"77bebbab-4aaf-498f-82c6-dbbb436afc6a\",\"subtype\":\"Figure\",\"type\":\"Plot\"}},\"id\":\"f324b90a-d110-404c-bbd8-123a38b393cf\",\"type\":\"HelpTool\"},{\"attributes\":{\"dimension\":1,\"plot\":{\"id\":\"77bebbab-4aaf-498f-82c6-dbbb436afc6a\",\"subtype\":\"Figure\",\"type\":\"Plot\"},\"ticker\":{\"id\":\"205cae2c-c76b-47ae-85f8-7580b8a2f3be\",\"type\":\"BasicTicker\"}},\"id\":\"105837fc-a8f2-43d6-aacd-824469709451\",\"type\":\"Grid\"},{\"attributes\":{\"callback\":null,\"column_names\":[\"y\",\"x\"],\"data\":{\"x\":[1,2,3,4,5],\"y\":[6,7,2,4,5]}},\"id\":\"5714fa9e-ce37-4c85-99a7-640c51cd298c\",\"type\":\"ColumnDataSource\"}],\"root_ids\":[\"77bebbab-4aaf-498f-82c6-dbbb436afc6a\"]},\"title\":\"Bokeh Application\",\"version\":\"0.11.1\"}};\n",
       "            var render_items = [{\"docid\":\"900c8fea-4946-4bf2-83c4-bb01526ea156\",\"elementid\":\"8c0ff97f-5451-4c88-861e-c07b840614aa\",\"modelid\":\"77bebbab-4aaf-498f-82c6-dbbb436afc6a\",\"notebook_comms_target\":\"1f539ad3-21b8-4869-afa0-73a64202fde2\"}];\n",
       "            \n",
       "            Bokeh.embed.embed_items(docs_json, render_items);\n",
       "        });\n",
       "      },\n",
       "      function(Bokeh) {\n",
       "      }\n",
       "    ];\n",
       "  \n",
       "    function run_inline_js() {\n",
       "      for (var i = 0; i < inline_js.length; i++) {\n",
       "        inline_js[i](window.Bokeh);\n",
       "      }\n",
       "    }\n",
       "  \n",
       "    if (window._bokeh_is_loading === 0) {\n",
       "      console.log(\"Bokeh: BokehJS loaded, going straight to plotting\");\n",
       "      run_inline_js();\n",
       "    } else {\n",
       "      load_libs(js_urls, function() {\n",
       "        console.log(\"Bokeh: BokehJS plotting callback run at\", now());\n",
       "        run_inline_js();\n",
       "      });\n",
       "    }\n",
       "  }(this));\n",
       "</script>"
      ]
     },
     "metadata": {},
     "output_type": "display_data"
    },
    {
     "data": {
      "text/html": [
       "<p><code>&lt;Bokeh Notebook handle for <strong>In[141]</strong>&gt;</code></p>"
      ],
      "text/plain": [
       "<bokeh.io._CommsHandle at 0x7fa8089e1128>"
      ]
     },
     "execution_count": 141,
     "metadata": {},
     "output_type": "execute_result"
    }
   ],
   "source": [
    "from bokeh.plotting import figure, output_file, show\n",
    "\n",
    "# prepare some data\n",
    "x = [1, 2, 3, 4, 5]\n",
    "y = [6, 7, 2, 4, 5]\n",
    "\n",
    "# output to static HTML file\n",
    "output_file(\"lines.html\", title=\"line plot example\")\n",
    "\n",
    "# create a new plot with a title and axis labels\n",
    "p = figure(title=\"simple line example\", x_axis_label='x', y_axis_label='y')\n",
    "\n",
    "# add a line renderer with legend and line thickness\n",
    "p.line(x, y, legend=\"Temp.\", line_width=2)\n",
    "\n",
    "# show the results\n",
    "show(p)"
   ]
  },
  {
   "cell_type": "code",
   "execution_count": null,
   "metadata": {
    "collapsed": true
   },
   "outputs": [],
   "source": []
  },
  {
   "cell_type": "code",
   "execution_count": null,
   "metadata": {
    "collapsed": true
   },
   "outputs": [],
   "source": []
  },
  {
   "cell_type": "code",
   "execution_count": null,
   "metadata": {
    "collapsed": true
   },
   "outputs": [],
   "source": []
  },
  {
   "cell_type": "code",
   "execution_count": null,
   "metadata": {
    "collapsed": true
   },
   "outputs": [],
   "source": []
  },
  {
   "cell_type": "code",
   "execution_count": null,
   "metadata": {
    "collapsed": true
   },
   "outputs": [],
   "source": []
  },
  {
   "cell_type": "code",
   "execution_count": null,
   "metadata": {
    "collapsed": true
   },
   "outputs": [],
   "source": []
  },
  {
   "cell_type": "code",
   "execution_count": null,
   "metadata": {
    "collapsed": true
   },
   "outputs": [],
   "source": []
  },
  {
   "cell_type": "code",
   "execution_count": null,
   "metadata": {
    "collapsed": false
   },
   "outputs": [],
   "source": []
  },
  {
   "cell_type": "code",
   "execution_count": null,
   "metadata": {
    "collapsed": true
   },
   "outputs": [],
   "source": []
  }
 ],
 "metadata": {
  "kernelspec": {
   "display_name": "Python 3",
   "language": "python",
   "name": "python3"
  },
  "language_info": {
   "codemirror_mode": {
    "name": "ipython",
    "version": 3
   },
   "file_extension": ".py",
   "mimetype": "text/x-python",
   "name": "python",
   "nbconvert_exporter": "python",
   "pygments_lexer": "ipython3",
   "version": "3.5.1"
  }
 },
 "nbformat": 4,
 "nbformat_minor": 0
}
