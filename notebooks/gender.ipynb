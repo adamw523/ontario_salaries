{
 "cells": [
  {
   "cell_type": "code",
   "execution_count": 14,
   "metadata": {
    "collapsed": false
   },
   "outputs": [],
   "source": [
    "import zipfile\n",
    "import numpy as np\n",
    "import pandas as pd\n",
    "import re\n",
    "\n",
    "from collections import defaultdict"
   ]
  },
  {
   "cell_type": "markdown",
   "metadata": {},
   "source": [
    "## Names dataset for assigning gender\n",
    "\n",
    "Top 100 US baby names with their gender since 1880\n",
    "\n",
    "https://www.ssa.gov/oact/babynames/limits.html"
   ]
  },
  {
   "cell_type": "code",
   "execution_count": 3,
   "metadata": {
    "collapsed": false
   },
   "outputs": [],
   "source": [
    "zf = zipfile.ZipFile('/data/names.zip')\n",
    "\n",
    "names = defaultdict(lambda: [0,0])\n",
    "\n",
    "for name in zf.namelist():\n",
    "    if name[-4:] == \".txt\":\n",
    "        f = zf.open(name)\n",
    "        for line in f.readlines():\n",
    "            elements = line.decode(\"utf-8\").split(\",\")\n",
    "            \n",
    "            current_counts = names[elements[0]]\n",
    "            \n",
    "            if elements[1] == 'M':\n",
    "                names[elements[0]] = [current_counts[0] + int(elements[2]), current_counts[1]]\n",
    "            else:\n",
    "                names[elements[0]] = [current_counts[0], current_counts[1] + int(elements[2])]\n",
    "                                    \n",
    "zf.close()"
   ]
  },
  {
   "cell_type": "code",
   "execution_count": 4,
   "metadata": {
    "collapsed": false
   },
   "outputs": [],
   "source": [
    "def m_or_f(name):\n",
    "    m = names[name][0]\n",
    "    f = names[name][1]\n",
    "    \n",
    "    if m > f:\n",
    "        return ['M', m / (m + f)]\n",
    "    elif f > m:\n",
    "        return ['F', f / (m + f)]\n",
    "    else:\n",
    "        return [None, 0]"
   ]
  },
  {
   "cell_type": "markdown",
   "metadata": {},
   "source": [
    "## Load salary data"
   ]
  },
  {
   "cell_type": "code",
   "execution_count": 31,
   "metadata": {
    "collapsed": false
   },
   "outputs": [
    {
     "name": "stdout",
     "output_type": "stream",
     "text": [
      "Matched 97634 names out of 115431 entries\n"
     ]
    }
   ],
   "source": [
    "salaries = pd.read_csv('/data/2015-combined-salary-seconded-en.csv')\n",
    "\n",
    "salaries['Salary Paid'] = salaries['Salary Paid'].apply(lambda x: float(re.sub(r'[\\$,]', '', x)))\n",
    "salaries['gender'] = salaries['First name'].apply( lambda x: m_or_f(x)[0] )\n",
    "\n",
    "\n",
    "print(\"Matched\", len(salaries) - len(salaries[ salaries['gender'].isnull() ]), \"names out of\", len(salaries), \"entries\")"
   ]
  },
  {
   "cell_type": "code",
   "execution_count": 34,
   "metadata": {
    "collapsed": false
   },
   "outputs": [
    {
     "data": {
      "text/html": [
       "<div>\n",
       "<table border=\"1\" class=\"dataframe\">\n",
       "  <thead>\n",
       "    <tr style=\"text-align: right;\">\n",
       "      <th></th>\n",
       "      <th>Sector</th>\n",
       "      <th>Last name</th>\n",
       "      <th>First name</th>\n",
       "      <th>Salary Paid</th>\n",
       "      <th>Taxable Benefits</th>\n",
       "      <th>Employer</th>\n",
       "      <th>Job title</th>\n",
       "      <th>Calendar Year</th>\n",
       "      <th>gender</th>\n",
       "    </tr>\n",
       "  </thead>\n",
       "  <tbody>\n",
       "    <tr>\n",
       "      <th>0</th>\n",
       "      <td>Government of Ontario - Ministries</td>\n",
       "      <td>Aniol</td>\n",
       "      <td>Richard</td>\n",
       "      <td>106143.8</td>\n",
       "      <td>$177.35</td>\n",
       "      <td>Aboriginal Affairs</td>\n",
       "      <td>Senior Negotiator / Négociateur principal</td>\n",
       "      <td>2015</td>\n",
       "      <td>M</td>\n",
       "    </tr>\n",
       "  </tbody>\n",
       "</table>\n",
       "</div>"
      ],
      "text/plain": [
       "                               Sector Last name First name  Salary Paid  \\\n",
       "0  Government of Ontario - Ministries     Aniol    Richard     106143.8   \n",
       "\n",
       "  Taxable Benefits            Employer  \\\n",
       "0          $177.35  Aboriginal Affairs   \n",
       "\n",
       "                                   Job title  Calendar Year gender  \n",
       "0  Senior Negotiator / Négociateur principal           2015      M  "
      ]
     },
     "execution_count": 34,
     "metadata": {},
     "output_type": "execute_result"
    }
   ],
   "source": [
    "salaries.head(1)"
   ]
  },
  {
   "cell_type": "code",
   "execution_count": 33,
   "metadata": {
    "collapsed": false
   },
   "outputs": [
    {
     "data": {
      "text/plain": [
       "gender\n",
       "F    123633.893673\n",
       "M    129244.325020\n",
       "Name: Salary Paid, dtype: float64"
      ]
     },
     "execution_count": 33,
     "metadata": {},
     "output_type": "execute_result"
    }
   ],
   "source": [
    "salaries.groupby(by='gender')['Salary Paid'].mean()"
   ]
  },
  {
   "cell_type": "code",
   "execution_count": 47,
   "metadata": {
    "collapsed": false
   },
   "outputs": [
    {
     "data": {
      "text/plain": [
       "gender  Sector                                                \n",
       "F       Colleges                                                  113606.295602\n",
       "        Crown Agencies                                            133432.128447\n",
       "        Government of Ontario - Judiciary                         189469.143320\n",
       "        Government of Ontario - Legislative Assembly & Offices    132821.603238\n",
       "        Government of Ontario - Ministries                        126845.798845\n",
       "        Hospitals & Boards of Public Health                       121990.465736\n",
       "        Municipalities & Services                                 118396.210826\n",
       "        Ontario Power Generation                                  131934.540558\n",
       "        Other Public Sector Employers                             127939.435247\n",
       "        School Boards                                             112720.175094\n",
       "        Seconded (Children & Youth Services)*                     107269.360000\n",
       "        Seconded (Community Safety & Correctional Services)*      112623.258333\n",
       "        Seconded (Education)*                                     127803.115065\n",
       "        Seconded (Energy)*                                        100297.250000\n",
       "        Seconded (Health & Long–Term Care)*                       127506.040000\n",
       "        Universities                                              139063.685957\n",
       "M       Colleges                                                  113753.736509\n",
       "        Crown Agencies                                            136630.291814\n",
       "        Government of Ontario - Judiciary                         211332.501125\n",
       "        Government of Ontario - Legislative Assembly & Offices    136305.965859\n",
       "        Government of Ontario - Ministries                        123824.826270\n",
       "        Hospitals & Boards of Public Health                       145800.525434\n",
       "        Municipalities & Services                                 118972.819170\n",
       "        Ontario Power Generation                                  142160.397664\n",
       "        Other Public Sector Employers                             139920.813910\n",
       "        School Boards                                             114141.817250\n",
       "        Seconded (Children & Youth Services)*                     124454.080000\n",
       "        Seconded (Community & Social Services)*                   131395.660000\n",
       "        Seconded (Community Safety & Correctional Services)*      112443.304286\n",
       "        Seconded (Education)*                                     132891.456250\n",
       "        Seconded (Energy)*                                        119287.530000\n",
       "        Seconded (Health & Long–Term Care)*                       273178.750000\n",
       "        Seconded (Labour)*                                        102417.140000\n",
       "        Universities                                              151638.274314\n",
       "Name: Salary Paid, dtype: float64"
      ]
     },
     "execution_count": 47,
     "metadata": {},
     "output_type": "execute_result"
    }
   ],
   "source": [
    "salaries.groupby(by=['gender', 'Sector'])['Salary Paid'].mean()"
   ]
  },
  {
   "cell_type": "code",
   "execution_count": null,
   "metadata": {
    "collapsed": true
   },
   "outputs": [],
   "source": []
  },
  {
   "cell_type": "code",
   "execution_count": null,
   "metadata": {
    "collapsed": true
   },
   "outputs": [],
   "source": []
  },
  {
   "cell_type": "code",
   "execution_count": null,
   "metadata": {
    "collapsed": true
   },
   "outputs": [],
   "source": []
  },
  {
   "cell_type": "code",
   "execution_count": null,
   "metadata": {
    "collapsed": true
   },
   "outputs": [],
   "source": []
  },
  {
   "cell_type": "code",
   "execution_count": null,
   "metadata": {
    "collapsed": true
   },
   "outputs": [],
   "source": []
  },
  {
   "cell_type": "code",
   "execution_count": null,
   "metadata": {
    "collapsed": true
   },
   "outputs": [],
   "source": []
  },
  {
   "cell_type": "code",
   "execution_count": null,
   "metadata": {
    "collapsed": true
   },
   "outputs": [],
   "source": []
  },
  {
   "cell_type": "code",
   "execution_count": null,
   "metadata": {
    "collapsed": true
   },
   "outputs": [],
   "source": []
  },
  {
   "cell_type": "code",
   "execution_count": null,
   "metadata": {
    "collapsed": true
   },
   "outputs": [],
   "source": []
  },
  {
   "cell_type": "code",
   "execution_count": null,
   "metadata": {
    "collapsed": true
   },
   "outputs": [],
   "source": []
  },
  {
   "cell_type": "code",
   "execution_count": null,
   "metadata": {
    "collapsed": true
   },
   "outputs": [],
   "source": []
  },
  {
   "cell_type": "code",
   "execution_count": null,
   "metadata": {
    "collapsed": false
   },
   "outputs": [],
   "source": []
  },
  {
   "cell_type": "code",
   "execution_count": null,
   "metadata": {
    "collapsed": true
   },
   "outputs": [],
   "source": []
  }
 ],
 "metadata": {
  "kernelspec": {
   "display_name": "Python 3",
   "language": "python",
   "name": "python3"
  },
  "language_info": {
   "codemirror_mode": {
    "name": "ipython",
    "version": 3
   },
   "file_extension": ".py",
   "mimetype": "text/x-python",
   "name": "python",
   "nbconvert_exporter": "python",
   "pygments_lexer": "ipython3",
   "version": "3.5.1"
  }
 },
 "nbformat": 4,
 "nbformat_minor": 0
}
